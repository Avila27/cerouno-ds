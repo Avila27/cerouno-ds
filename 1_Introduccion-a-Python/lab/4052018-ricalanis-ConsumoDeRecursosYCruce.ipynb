{
 "cells": [
  {
   "cell_type": "markdown",
   "metadata": {},
   "source": [
    "# Consumir un recurso"
   ]
  },
  {
   "cell_type": "code",
   "execution_count": 31,
   "metadata": {
    "collapsed": true
   },
   "outputs": [],
   "source": [
    "import requests\n",
    "import pandas as pd\n",
    "%matplotlib inline"
   ]
  },
  {
   "cell_type": "code",
   "execution_count": 32,
   "metadata": {
    "collapsed": true
   },
   "outputs": [],
   "source": [
    "r = requests.get(\"https://graphs2.coinmarketcap.com/currencies/ethereum/\")"
   ]
  },
  {
   "cell_type": "code",
   "execution_count": 33,
   "metadata": {
    "collapsed": true
   },
   "outputs": [],
   "source": [
    "bitcoin_data = r.json()"
   ]
  },
  {
   "cell_type": "code",
   "execution_count": 34,
   "metadata": {},
   "outputs": [
    {
     "data": {
      "text/plain": [
       "dict_keys(['market_cap_by_available_supply', 'price_btc', 'price_usd', 'volume_usd'])"
      ]
     },
     "execution_count": 34,
     "metadata": {},
     "output_type": "execute_result"
    }
   ],
   "source": [
    "bitcoin_data.keys()"
   ]
  },
  {
   "cell_type": "code",
   "execution_count": 35,
   "metadata": {},
   "outputs": [
    {
     "data": {
      "text/plain": [
       "[[1438958970000, 2.83162],\n",
       " [1439045372000, 1.33075],\n",
       " [1439131770000, 0.718413],\n",
       " [1439218169000, 0.643769],\n",
       " [1439304572000, 0.75046]]"
      ]
     },
     "execution_count": 35,
     "metadata": {},
     "output_type": "execute_result"
    }
   ],
   "source": [
    "bitcoin_data[\"price_usd\"][0:5]"
   ]
  },
  {
   "cell_type": "code",
   "execution_count": 36,
   "metadata": {
    "collapsed": true
   },
   "outputs": [],
   "source": [
    "bitcoin_df = pd.DataFrame(bitcoin_data[\"price_usd\"], columns = [\"date\", \"value\"])"
   ]
  },
  {
   "cell_type": "code",
   "execution_count": 37,
   "metadata": {
    "scrolled": true
   },
   "outputs": [
    {
     "data": {
      "text/html": [
       "<div>\n",
       "<style>\n",
       "    .dataframe thead tr:only-child th {\n",
       "        text-align: right;\n",
       "    }\n",
       "\n",
       "    .dataframe thead th {\n",
       "        text-align: left;\n",
       "    }\n",
       "\n",
       "    .dataframe tbody tr th {\n",
       "        vertical-align: top;\n",
       "    }\n",
       "</style>\n",
       "<table border=\"1\" class=\"dataframe\">\n",
       "  <thead>\n",
       "    <tr style=\"text-align: right;\">\n",
       "      <th></th>\n",
       "      <th>date</th>\n",
       "      <th>value</th>\n",
       "    </tr>\n",
       "  </thead>\n",
       "  <tbody>\n",
       "    <tr>\n",
       "      <th>0</th>\n",
       "      <td>1438958970000</td>\n",
       "      <td>2.831620</td>\n",
       "    </tr>\n",
       "    <tr>\n",
       "      <th>1</th>\n",
       "      <td>1439045372000</td>\n",
       "      <td>1.330750</td>\n",
       "    </tr>\n",
       "    <tr>\n",
       "      <th>2</th>\n",
       "      <td>1439131770000</td>\n",
       "      <td>0.718413</td>\n",
       "    </tr>\n",
       "    <tr>\n",
       "      <th>3</th>\n",
       "      <td>1439218169000</td>\n",
       "      <td>0.643769</td>\n",
       "    </tr>\n",
       "    <tr>\n",
       "      <th>4</th>\n",
       "      <td>1439304572000</td>\n",
       "      <td>0.750460</td>\n",
       "    </tr>\n",
       "  </tbody>\n",
       "</table>\n",
       "</div>"
      ],
      "text/plain": [
       "            date     value\n",
       "0  1438958970000  2.831620\n",
       "1  1439045372000  1.330750\n",
       "2  1439131770000  0.718413\n",
       "3  1439218169000  0.643769\n",
       "4  1439304572000  0.750460"
      ]
     },
     "execution_count": 37,
     "metadata": {},
     "output_type": "execute_result"
    }
   ],
   "source": [
    "bitcoin_df.head(5)"
   ]
  },
  {
   "cell_type": "code",
   "execution_count": 38,
   "metadata": {},
   "outputs": [
    {
     "data": {
      "text/plain": [
       "<matplotlib.axes._subplots.AxesSubplot at 0x1151a5278>"
      ]
     },
     "execution_count": 38,
     "metadata": {},
     "output_type": "execute_result"
    },
    {
     "data": {
      "image/png": "[encoded data removed]",
      "text/plain": [
       "<matplotlib.figure.Figure at 0x113105048>"
      ]
     },
     "metadata": {},
     "output_type": "display_data"
    }
   ],
   "source": [
    "bitcoin_df.plot(kind=\"line\", x=\"date\", y=\"value\")"
   ]
  },
  {
   "cell_type": "markdown",
   "metadata": {},
   "source": [
    "# Segunda fuente de información"
   ]
  },
  {
   "cell_type": "code",
   "execution_count": 39,
   "metadata": {
    "collapsed": true
   },
   "outputs": [],
   "source": [
    "aapl_source  = pd.read_html(\"https://www.nasdaq.com/symbol/aapl/historical\")"
   ]
  },
  {
   "cell_type": "code",
   "execution_count": 40,
   "metadata": {},
   "outputs": [
    {
     "data": {
      "text/html": [
       "<div>\n",
       "<style>\n",
       "    .dataframe thead tr:only-child th {\n",
       "        text-align: right;\n",
       "    }\n",
       "\n",
       "    .dataframe thead th {\n",
       "        text-align: left;\n",
       "    }\n",
       "\n",
       "    .dataframe tbody tr th {\n",
       "        vertical-align: top;\n",
       "    }\n",
       "</style>\n",
       "<table border=\"1\" class=\"dataframe\">\n",
       "  <thead>\n",
       "    <tr style=\"text-align: right;\">\n",
       "      <th></th>\n",
       "      <th>Date</th>\n",
       "      <th>Open</th>\n",
       "      <th>High\n",
       "                                \n",
       "                                    \n",
       "                                    \n",
       "                                        \"High\" is the highest sales price the stock has achieved during the regular trading hours, the intra-day high.</th>\n",
       "      <th>Low\n",
       "                                \n",
       "                                    \n",
       "                                    \n",
       "                                        \"Low\" is the lowest sales price the stock has fallen to during the regular trading hours, the intra-day low.</th>\n",
       "      <th>Close / Last\n",
       "                                \n",
       "                                    \n",
       "                                    \n",
       "                                        \"Close\" is the period at the end of the trading session. Sometimes used to refer to closing price.</th>\n",
       "      <th>Volume\n",
       "                                \n",
       "                                    \n",
       "                                    \n",
       "                                        \"Volume\" The closing daily official volumes represented graphically for each trading day.</th>\n",
       "    </tr>\n",
       "  </thead>\n",
       "  <tbody>\n",
       "    <tr>\n",
       "      <th>0</th>\n",
       "      <td>NaN</td>\n",
       "      <td>NaN</td>\n",
       "      <td>NaN</td>\n",
       "      <td>NaN</td>\n",
       "      <td>NaN</td>\n",
       "      <td>NaN</td>\n",
       "    </tr>\n",
       "    <tr>\n",
       "      <th>1</th>\n",
       "      <td>05/04/2018</td>\n",
       "      <td>178.250</td>\n",
       "      <td>184.25</td>\n",
       "      <td>178.1700</td>\n",
       "      <td>183.83</td>\n",
       "      <td>56137230.0</td>\n",
       "    </tr>\n",
       "    <tr>\n",
       "      <th>2</th>\n",
       "      <td>05/03/2018</td>\n",
       "      <td>175.880</td>\n",
       "      <td>177.50</td>\n",
       "      <td>174.4411</td>\n",
       "      <td>176.89</td>\n",
       "      <td>33944110.0</td>\n",
       "    </tr>\n",
       "    <tr>\n",
       "      <th>3</th>\n",
       "      <td>05/02/2018</td>\n",
       "      <td>175.225</td>\n",
       "      <td>177.75</td>\n",
       "      <td>173.8000</td>\n",
       "      <td>176.57</td>\n",
       "      <td>66454720.0</td>\n",
       "    </tr>\n",
       "    <tr>\n",
       "      <th>4</th>\n",
       "      <td>05/01/2018</td>\n",
       "      <td>166.410</td>\n",
       "      <td>169.20</td>\n",
       "      <td>165.2700</td>\n",
       "      <td>169.10</td>\n",
       "      <td>52228910.0</td>\n",
       "    </tr>\n",
       "  </tbody>\n",
       "</table>\n",
       "</div>"
      ],
      "text/plain": [
       "         Date     Open  \\\n",
       "0         NaN      NaN   \n",
       "1  05/04/2018  178.250   \n",
       "2  05/03/2018  175.880   \n",
       "3  05/02/2018  175.225   \n",
       "4  05/01/2018  166.410   \n",
       "\n",
       "   \\n                            \\n                                High\\n                                \\n                                    \\n                                    \\n                                        \"High\" is the highest sales price the stock has achieved during the regular trading hours, the intra-day high.\\n                                    \\n                                    \\n                                \\n                            \\n                          \\\n",
       "0                                                NaN                                                                                                                                                                                                                                                                                                                                                                                                                                                                  \n",
       "1                                             184.25                                                                                                                                                                                                                                                                                                                                                                                                                                                                  \n",
       "2                                             177.50                                                                                                                                                                                                                                                                                                                                                                                                                                                                  \n",
       "3                                             177.75                                                                                                                                                                                                                                                                                                                                                                                                                                                                  \n",
       "4                                             169.20                                                                                                                                                                                                                                                                                                                                                                                                                                                                  \n",
       "\n",
       "   \\n                            \\n                                Low\\n                                \\n                                    \\n                                    \\n                                        \"Low\" is the lowest sales price the stock has fallen to during the regular trading hours, the intra-day low.\\n                                    \\n                                    \\n                                \\n                            \\n                          \\\n",
       "0                                                NaN                                                                                                                                                                                                                                                                                                                                                                                                                                                               \n",
       "1                                           178.1700                                                                                                                                                                                                                                                                                                                                                                                                                                                               \n",
       "2                                           174.4411                                                                                                                                                                                                                                                                                                                                                                                                                                                               \n",
       "3                                           173.8000                                                                                                                                                                                                                                                                                                                                                                                                                                                               \n",
       "4                                           165.2700                                                                                                                                                                                                                                                                                                                                                                                                                                                               \n",
       "\n",
       "   \\n                            \\n                                Close / Last\\n                                \\n                                    \\n                                    \\n                                        \"Close\" is the period at the end of the trading session. Sometimes used to refer to closing price.\\n                                    \\n                                    \\n                                \\n                            \\n                          \\\n",
       "0                                                NaN                                                                                                                                                                                                                                                                                                                                                                                                                                                              \n",
       "1                                             183.83                                                                                                                                                                                                                                                                                                                                                                                                                                                              \n",
       "2                                             176.89                                                                                                                                                                                                                                                                                                                                                                                                                                                              \n",
       "3                                             176.57                                                                                                                                                                                                                                                                                                                                                                                                                                                              \n",
       "4                                             169.10                                                                                                                                                                                                                                                                                                                                                                                                                                                              \n",
       "\n",
       "   \\n                            \\n                                Volume\\n                                \\n                                    \\n                                    \\n                                        \"Volume\" The closing daily official volumes represented graphically for each trading day.\\n                                    \\n                                    \\n                                \\n                            \\n                          \n",
       "0                                                NaN                                                                                                                                                                                                                                                                                                                                                                                                                                              \n",
       "1                                         56137230.0                                                                                                                                                                                                                                                                                                                                                                                                                                              \n",
       "2                                         33944110.0                                                                                                                                                                                                                                                                                                                                                                                                                                              \n",
       "3                                         66454720.0                                                                                                                                                                                                                                                                                                                                                                                                                                              \n",
       "4                                         52228910.0                                                                                                                                                                                                                                                                                                                                                                                                                                              "
      ]
     },
     "execution_count": 40,
     "metadata": {},
     "output_type": "execute_result"
    }
   ],
   "source": [
    "aapl_source[2].head()"
   ]
  },
  {
   "cell_type": "code",
   "execution_count": 42,
   "metadata": {
    "collapsed": true
   },
   "outputs": [],
   "source": [
    "aapl_daily_data = aapl_source[2].dropna()\n",
    "aapl_daily_data.columns = [\"date\", \"open\", \"high\", \"low\", \"close\", \"volume\"]"
   ]
  },
  {
   "cell_type": "code",
   "execution_count": 43,
   "metadata": {
    "scrolled": true
   },
   "outputs": [
    {
     "data": {
      "text/html": [
       "<div>\n",
       "<style>\n",
       "    .dataframe thead tr:only-child th {\n",
       "        text-align: right;\n",
       "    }\n",
       "\n",
       "    .dataframe thead th {\n",
       "        text-align: left;\n",
       "    }\n",
       "\n",
       "    .dataframe tbody tr th {\n",
       "        vertical-align: top;\n",
       "    }\n",
       "</style>\n",
       "<table border=\"1\" class=\"dataframe\">\n",
       "  <thead>\n",
       "    <tr style=\"text-align: right;\">\n",
       "      <th></th>\n",
       "      <th>date</th>\n",
       "      <th>open</th>\n",
       "      <th>high</th>\n",
       "      <th>low</th>\n",
       "      <th>close</th>\n",
       "      <th>volume</th>\n",
       "    </tr>\n",
       "  </thead>\n",
       "  <tbody>\n",
       "    <tr>\n",
       "      <th>1</th>\n",
       "      <td>05/04/2018</td>\n",
       "      <td>178.250</td>\n",
       "      <td>184.25</td>\n",
       "      <td>178.1700</td>\n",
       "      <td>183.83</td>\n",
       "      <td>56137230.0</td>\n",
       "    </tr>\n",
       "    <tr>\n",
       "      <th>2</th>\n",
       "      <td>05/03/2018</td>\n",
       "      <td>175.880</td>\n",
       "      <td>177.50</td>\n",
       "      <td>174.4411</td>\n",
       "      <td>176.89</td>\n",
       "      <td>33944110.0</td>\n",
       "    </tr>\n",
       "    <tr>\n",
       "      <th>3</th>\n",
       "      <td>05/02/2018</td>\n",
       "      <td>175.225</td>\n",
       "      <td>177.75</td>\n",
       "      <td>173.8000</td>\n",
       "      <td>176.57</td>\n",
       "      <td>66454720.0</td>\n",
       "    </tr>\n",
       "    <tr>\n",
       "      <th>4</th>\n",
       "      <td>05/01/2018</td>\n",
       "      <td>166.410</td>\n",
       "      <td>169.20</td>\n",
       "      <td>165.2700</td>\n",
       "      <td>169.10</td>\n",
       "      <td>52228910.0</td>\n",
       "    </tr>\n",
       "    <tr>\n",
       "      <th>5</th>\n",
       "      <td>04/30/2018</td>\n",
       "      <td>162.130</td>\n",
       "      <td>167.26</td>\n",
       "      <td>161.8400</td>\n",
       "      <td>165.26</td>\n",
       "      <td>41976500.0</td>\n",
       "    </tr>\n",
       "  </tbody>\n",
       "</table>\n",
       "</div>"
      ],
      "text/plain": [
       "         date     open    high       low   close      volume\n",
       "1  05/04/2018  178.250  184.25  178.1700  183.83  56137230.0\n",
       "2  05/03/2018  175.880  177.50  174.4411  176.89  33944110.0\n",
       "3  05/02/2018  175.225  177.75  173.8000  176.57  66454720.0\n",
       "4  05/01/2018  166.410  169.20  165.2700  169.10  52228910.0\n",
       "5  04/30/2018  162.130  167.26  161.8400  165.26  41976500.0"
      ]
     },
     "execution_count": 43,
     "metadata": {},
     "output_type": "execute_result"
    }
   ],
   "source": [
    "aapl_daily_data.head(5)"
   ]
  },
  {
   "cell_type": "markdown",
   "metadata": {},
   "source": [
    "# Cruzando las dos fuentes"
   ]
  },
  {
   "cell_type": "markdown",
   "metadata": {},
   "source": [
    "lo haremos sobre la fecha"
   ]
  },
  {
   "cell_type": "code",
   "execution_count": 44,
   "metadata": {
    "collapsed": true
   },
   "outputs": [],
   "source": [
    "import datetime"
   ]
  },
  {
   "cell_type": "code",
   "execution_count": 45,
   "metadata": {
    "collapsed": true
   },
   "outputs": [],
   "source": [
    "def convert_timestamp_to_date(unix_time):\n",
    "    return datetime.datetime.fromtimestamp(\n",
    "            int(str(unix_time)[0:10])\n",
    "        ).strftime('%m/%d/%Y')"
   ]
  },
  {
   "cell_type": "code",
   "execution_count": 46,
   "metadata": {
    "collapsed": true
   },
   "outputs": [],
   "source": [
    "    bitcoin_df[\"date\"] = bitcoin_df[\"date\"].apply(lambda x: convert_timestamp_to_date(x))"
   ]
  },
  {
   "cell_type": "code",
   "execution_count": null,
   "metadata": {
    "collapsed": true
   },
   "outputs": [],
   "source": [
    "modified_date = []\n",
    "for value in bitcoin_df[\"date\"]:\n",
    "    modified_date.append(convert_timestamp_to_date(value))\n",
    "bitcoin_df[\"date\"] =  modified_date\n",
    "bitcoin_df.head()"
   ]
  },
  {
   "cell_type": "code",
   "execution_count": 81,
   "metadata": {},
   "outputs": [],
   "source": [
    "merged_tables = aapl_daily_data.merge(bitcoin_df, on=\"date\",how=\"right\")"
   ]
  },
  {
   "cell_type": "code",
   "execution_count": 82,
   "metadata": {},
   "outputs": [
    {
     "data": {
      "text/html": [
       "<div>\n",
       "<style>\n",
       "    .dataframe thead tr:only-child th {\n",
       "        text-align: right;\n",
       "    }\n",
       "\n",
       "    .dataframe thead th {\n",
       "        text-align: left;\n",
       "    }\n",
       "\n",
       "    .dataframe tbody tr th {\n",
       "        vertical-align: top;\n",
       "    }\n",
       "</style>\n",
       "<table border=\"1\" class=\"dataframe\">\n",
       "  <thead>\n",
       "    <tr style=\"text-align: right;\">\n",
       "      <th></th>\n",
       "      <th>date</th>\n",
       "      <th>open</th>\n",
       "      <th>high</th>\n",
       "      <th>low</th>\n",
       "      <th>close</th>\n",
       "      <th>volume</th>\n",
       "      <th>value</th>\n",
       "    </tr>\n",
       "  </thead>\n",
       "  <tbody>\n",
       "    <tr>\n",
       "      <th>0</th>\n",
       "      <td>05/04/2018</td>\n",
       "      <td>178.250</td>\n",
       "      <td>184.25</td>\n",
       "      <td>178.1700</td>\n",
       "      <td>183.83</td>\n",
       "      <td>56137230.0</td>\n",
       "      <td>800.467</td>\n",
       "    </tr>\n",
       "    <tr>\n",
       "      <th>1</th>\n",
       "      <td>05/03/2018</td>\n",
       "      <td>175.880</td>\n",
       "      <td>177.50</td>\n",
       "      <td>174.4411</td>\n",
       "      <td>176.89</td>\n",
       "      <td>33944110.0</td>\n",
       "      <td>770.148</td>\n",
       "    </tr>\n",
       "    <tr>\n",
       "      <th>2</th>\n",
       "      <td>05/02/2018</td>\n",
       "      <td>175.225</td>\n",
       "      <td>177.75</td>\n",
       "      <td>173.8000</td>\n",
       "      <td>176.57</td>\n",
       "      <td>66454720.0</td>\n",
       "      <td>713.665</td>\n",
       "    </tr>\n",
       "    <tr>\n",
       "      <th>3</th>\n",
       "      <td>05/01/2018</td>\n",
       "      <td>166.410</td>\n",
       "      <td>169.20</td>\n",
       "      <td>165.2700</td>\n",
       "      <td>169.10</td>\n",
       "      <td>52228910.0</td>\n",
       "      <td>668.522</td>\n",
       "    </tr>\n",
       "    <tr>\n",
       "      <th>4</th>\n",
       "      <td>04/30/2018</td>\n",
       "      <td>162.130</td>\n",
       "      <td>167.26</td>\n",
       "      <td>161.8400</td>\n",
       "      <td>165.26</td>\n",
       "      <td>41976500.0</td>\n",
       "      <td>650.500</td>\n",
       "    </tr>\n",
       "  </tbody>\n",
       "</table>\n",
       "</div>"
      ],
      "text/plain": [
       "         date     open    high       low   close      volume    value\n",
       "0  05/04/2018  178.250  184.25  178.1700  183.83  56137230.0  800.467\n",
       "1  05/03/2018  175.880  177.50  174.4411  176.89  33944110.0  770.148\n",
       "2  05/02/2018  175.225  177.75  173.8000  176.57  66454720.0  713.665\n",
       "3  05/01/2018  166.410  169.20  165.2700  169.10  52228910.0  668.522\n",
       "4  04/30/2018  162.130  167.26  161.8400  165.26  41976500.0  650.500"
      ]
     },
     "execution_count": 82,
     "metadata": {},
     "output_type": "execute_result"
    }
   ],
   "source": [
    "merged_tables.head(5)"
   ]
  },
  {
   "cell_type": "code",
   "execution_count": 83,
   "metadata": {},
   "outputs": [
    {
     "data": {
      "text/plain": [
       "1001"
      ]
     },
     "execution_count": 83,
     "metadata": {},
     "output_type": "execute_result"
    }
   ],
   "source": [
    "len(merged_tables)"
   ]
  },
  {
   "cell_type": "code",
   "execution_count": 84,
   "metadata": {},
   "outputs": [
    {
     "data": {
      "text/plain": [
       "63"
      ]
     },
     "execution_count": 84,
     "metadata": {},
     "output_type": "execute_result"
    }
   ],
   "source": [
    "len(merged_tables.dropna())"
   ]
  },
  {
   "cell_type": "code",
   "execution_count": 85,
   "metadata": {
    "collapsed": true
   },
   "outputs": [],
   "source": [
    "cleaned_merged_tables = merged_tables.dropna()"
   ]
  },
  {
   "cell_type": "code",
   "execution_count": 86,
   "metadata": {},
   "outputs": [
    {
     "data": {
      "text/plain": [
       "<matplotlib.axes._subplots.AxesSubplot at 0x114ac0a58>"
      ]
     },
     "execution_count": 86,
     "metadata": {},
     "output_type": "execute_result"
    },
    {
     "data": {
      "image/png": "[encoded data removed]",
      "text/plain": [
       "<matplotlib.figure.Figure at 0x114b844e0>"
      ]
     },
     "metadata": {},
     "output_type": "display_data"
    }
   ],
   "source": [
    "%matplotlib inline\n",
    "cleaned_merged_tables.plot(kind=\"line\", x=\"date\", y=[\"value\", \"open\"])"
   ]
  }
 ],
 "metadata": {
  "kernelspec": {
   "display_name": "Python 3",
   "language": "python",
   "name": "python3"
  },
  "language_info": {
   "codemirror_mode": {
    "name": "ipython",
    "version": 3
   },
   "file_extension": ".py",
   "mimetype": "text/x-python",
   "name": "python",
   "nbconvert_exporter": "python",
   "pygments_lexer": "ipython3",
   "version": "3.6.5"
  }
 },
 "nbformat": 4,
 "nbformat_minor": 2
}
