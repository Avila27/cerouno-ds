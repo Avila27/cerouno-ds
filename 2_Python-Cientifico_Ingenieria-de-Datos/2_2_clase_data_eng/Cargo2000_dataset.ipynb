{
 "cells": [
  {
   "cell_type": "code",
   "execution_count": null,
   "metadata": {},
   "outputs": [],
   "source": [
    "import pandas as pd\n",
    "\n",
    "\n",
    "url = 'https://archive.ics.uci.edu/ml/machine-learning-databases/00382/c2k_data_comma.csv'"
   ]
  },
  {
   "cell_type": "code",
   "execution_count": null,
   "metadata": {},
   "outputs": [],
   "source": [
    "df = pd.read_csv(url, index_col='nr')"
   ]
  },
  {
   "cell_type": "markdown",
   "metadata": {},
   "source": [
    "UCI info: https://archive.ics.uci.edu/ml/datasets/Cargo+2000+Freight+Tracking+and+Tracing"
   ]
  },
  {
   "cell_type": "raw",
   "metadata": {},
   "source": [
    "Attribute Information:\n",
    "\n",
    "nr - unique id for process instance of overall process - domain: [1â€¦3942] \n",
    "\n",
    "i1_legid - unique id across all transport legs (note: also to 'empty' legs are assigned an id) of incoming transport leg 1 - domain: [1..14664] \n",
    "i1_rcs_p - planned duration (minutes) of incoming transport leg 1 (RCS: Freight Check in) - domain: [LONGINT] \n",
    "i1_rcs_e - effective (i.e., actual) duration (minutes) of incoming transport leg 1 (RCS: Freight Check in) - domain: [LONGINT] \n",
    "i1_dep_1_p - planned duration (minutes) of incoming transport leg 1 (DEP: Departure Segment 1) - domain: [LONGINT] \n",
    "i1_dep_1_e - effective (i.e., actual) duration (minutes) of incoming transport leg 1 (DEP: Departure Segment 1) - domain: [LONGINT] \n",
    "i1_dep_1_place - unique id for airport (original IATA codes have been masked due to confidentiality reasons) of incoming transport leg 1 (DEP: Departure Segment 1) - domain: [100â€¦816] \n",
    "i1_rcf_1_p - planned duration (minutes) of incoming transport leg 1 (RCF: Arrival Segment 1) - domain: [LONGINT] \n",
    "i1_rcf_1_e - effective (i.e., actual) duration (minutes) of incoming transport leg 1 (RCF: Arrival Segment 1) - domain: [LONGINT] \n",
    "i1_rcf_1_place - unique id for airport (original IATA codes have been masked due to confidentiality reasons) of incoming transport leg 1 (RCF: Arrival Segment 1) - domain: [100â€¦816] \n",
    "i1_dep_2_p - planned duration (minutes) of incoming transport leg 1 (DEP: Departure Segment 2) - domain: [LONGINT] \n",
    "i1_dep_2_e - effective (i.e., actual) duration (minutes) of incoming transport leg 1 (DEP: Departure Segment 2) - domain: [LONGINT] \n",
    "i1_dep_2_place - unique id for airport (original IATA codes have been masked due to confidentiality reasons) of incoming transport leg 1 (DEP: Departure Segment 2) - domain: [100â€¦816] \n",
    "i1_rcf_2_p - planned duration (minutes) of incoming transport leg 1 (RCF: Arrival Segment 2) - domain: [LONGINT] \n",
    "i1_rcf_2_e - effective (i.e., actual) duration (minutes) of incoming transport leg 1 (RCF: Arrival Segment 2) - domain: [LONGINT] \n",
    "i1_rcf_2_place - unique id for airport (original IATA codes have been masked due to confidentiality reasons) of incoming transport leg 1 (RCF: Arrival Segment 2) - domain: [100â€¦816] \n",
    "i1_dep_3_p - planned duration (minutes) of incoming transport leg 1 (DEP: Departure Segment 3) - domain: [LONGINT] \n",
    "i1_dep_3_e - effective (i.e., actual) duration (minutes) of incoming transport leg 1 (DEP: Departure Segment 3) - domain: [LONGINT] \n",
    "i1_dep_3_place - unique id for airport (original IATA codes have been masked due to confidentiality reasons) of incoming transport leg 1 (DEP: Departure Segment 3) - domain: [100â€¦816] \n",
    "i1_rcf_3_p - planned duration (minutes) of incoming transport leg 1 (RCF: Arrival Segment 3) - domain: [LONGINT] \n",
    "i1_rcf_3_e - effective (i.e., actual) duration (minutes) of incoming transport leg 1 (RCF: Arrival Segment 3) - domain: [LONGINT] \n",
    "i1_rcf_3_place - unique id for airport (original IATA codes have been masked due to confidentiality reasons) of incoming transport leg 1 (RCF: Arrival Segment 3) - domain: [100â€¦816] \n",
    "i1_dlv_p - planned duration (minutes) of incoming transport leg 1 (DLV: Freight Delivery) - domain: [LONGINT] \n",
    "i1_dlv_e - effective (i.e., actual) duration (minutes) of incoming transport leg 1 (DLV: Freight Delivery) - domain: [LONGINT] \n",
    "i1_hops - number of segments (hops) in the transport leg of incoming transport leg 1 - domain: [1..4] \n",
    "\n",
    "i2_legid - unique id across all transport legs (note: also to 'empty' legs are assigned an id) of incoming transport leg 2 - domain: [1..14664] \n",
    "i2_rcs_p - planned duration (minutes) of incoming transport leg 2 (RCS: Freight Check in) - domain: [LONGINT] \n",
    "i2_rcs_e - effective (i.e., actual) duration (minutes) of incoming transport leg 2 (RCS: Freight Check in) - domain: [LONGINT] \n",
    "i2_dep_1_p - planned duration (minutes) of incoming transport leg 2 (DEP: Departure Segment 1) - domain: [LONGINT] \n",
    "i2_dep_1_e - effective (i.e., actual) duration (minutes) of incoming transport leg 2 (DEP: Departure Segment 1) - domain: [LONGINT] \n",
    "i2_dep_1_place - unique id for airport (original IATA codes have been masked due to confidentiality reasons) of incoming transport leg 2 (DEP: Departure Segment 1) - domain: [100â€¦816] \n",
    "i2_rcf_1_p - planned duration (minutes) of incoming transport leg 2 (RCF: Arrival Segment 1) - domain: [LONGINT] \n",
    "i2_rcf_1_e - effective (i.e., actual) duration (minutes) of incoming transport leg 2 (RCF: Arrival Segment 1) - domain: [LONGINT] \n",
    "i2_rcf_1_place - unique id for airport (original IATA codes have been masked due to confidentiality reasons) of incoming transport leg 2 (RCF: Arrival Segment 1) - domain: [100â€¦816] \n",
    "i2_dep_2_p - planned duration (minutes) of incoming transport leg 2 (DEP: Departure Segment 2) - domain: [LONGINT] \n",
    "i2_dep_2_e - effective (i.e., actual) duration (minutes) of incoming transport leg 2 (DEP: Departure Segment 2) - domain: [LONGINT] \n",
    "i2_dep_2_place - unique id for airport (original IATA codes have been masked due to confidentiality reasons) of incoming transport leg 2 (DEP: Departure Segment 2) - domain: [100â€¦816] \n",
    "i2_rcf_2_p - planned duration (minutes) of incoming transport leg 2 (RCF: Arrival Segment 2) - domain: [LONGINT] \n",
    "i2_rcf_2_e - effective (i.e., actual) duration (minutes) of incoming transport leg 2 (RCF: Arrival Segment 2) - domain: [LONGINT] \n",
    "i2_rcf_2_place - unique id for airport (original IATA codes have been masked due to confidentiality reasons) of incoming transport leg 2 (RCF: Arrival Segment 2) - domain: [100â€¦816] \n",
    "i2_dep_3_p - planned duration (minutes) of incoming transport leg 2 (DEP: Departure Segment 3) - domain: [LONGINT] \n",
    "i2_dep_3_e - effective (i.e., actual) duration (minutes) of incoming transport leg 2 (DEP: Departure Segment 3) - domain: [LONGINT] \n",
    "i2_dep_3_place - unique id for airport (original IATA codes have been masked due to confidentiality reasons) of incoming transport leg 2 (DEP: Departure Segment 3) - domain: [100â€¦816] \n",
    "i2_rcf_3_p - planned duration (minutes) of incoming transport leg 2 (RCF: Arrival Segment 3) - domain: [LONGINT] \n",
    "i2_rcf_3_e - effective (i.e., actual) duration (minutes) of incoming transport leg 2 (RCF: Arrival Segment 3) - domain: [LONGINT] \n",
    "i2_rcf_3_place - unique id for airport (original IATA codes have been masked due to confidentiality reasons) of incoming transport leg 2 (RCF: Arrival Segment 3) - domain: [100â€¦816] \n",
    "i2_dlv_p - planned duration (minutes) of incoming transport leg 2 (DLV: Freight Delivery) - domain: [LONGINT] \n",
    "i2_dlv_e - effective (i.e., actual) duration (minutes) of incoming transport leg 2 (DLV: Freight Delivery) - domain: [LONGINT] \n",
    "i2_hops - number of segments (hops) in the transport leg of incoming transport leg 2 - domain: [1..4] \n",
    "\n",
    "i3_legid - unique id across all transport legs (note: also to 'empty' legs are assigned an id) of incoming transport leg 3 - domain: [1..14664] \n",
    "i3_rcs_p - planned duration (minutes) of incoming transport leg 3 (RCS: Freight Check in) - domain: [LONGINT] \n",
    "i3_rcs_e - effective (i.e., actual) duration (minutes) of incoming transport leg 3 (RCS: Freight Check in) - domain: [LONGINT] \n",
    "i3_dep_1_p - planned duration (minutes) of incoming transport leg 3 (DEP: Departure Segment 1) - domain: [LONGINT] \n",
    "i3_dep_1_e - effective (i.e., actual) duration (minutes) of incoming transport leg 3 (DEP: Departure Segment 1) - domain: [LONGINT] \n",
    "i3_dep_1_place - unique id for airport (original IATA codes have been masked due to confidentiality reasons) of incoming transport leg 3 (DEP: Departure Segment 1) - domain: [100â€¦816] \n",
    "i3_rcf_1_p - planned duration (minutes) of incoming transport leg 3 (RCF: Arrival Segment 1) - domain: [LONGINT] \n",
    "i3_rcf_1_e - effective (i.e., actual) duration (minutes) of incoming transport leg 3 (RCF: Arrival Segment 1) - domain: [LONGINT] \n",
    "i3_rcf_1_place - unique id for airport (original IATA codes have been masked due to confidentiality reasons) of incoming transport leg 3 (RCF: Arrival Segment 1) - domain: [100â€¦816] \n",
    "i3_dep_2_p - planned duration (minutes) of incoming transport leg 3 (DEP: Departure Segment 2) - domain: [LONGINT] \n",
    "i3_dep_2_e - effective (i.e., actual) duration (minutes) of incoming transport leg 3 (DEP: Departure Segment 2) - domain: [LONGINT] \n",
    "i3_dep_2_place - unique id for airport (original IATA codes have been masked due to confidentiality reasons) of incoming transport leg 3 (DEP: Departure Segment 2) - domain: [100â€¦816] \n",
    "i3_rcf_2_p - planned duration (minutes) of incoming transport leg 3 (RCF: Arrival Segment 2) - domain: [LONGINT] \n",
    "i3_rcf_2_e - effective (i.e., actual) duration (minutes) of incoming transport leg 3 (RCF: Arrival Segment 2) - domain: [LONGINT] \n",
    "i3_rcf_2_place - unique id for airport (original IATA codes have been masked due to confidentiality reasons) of incoming transport leg 3 (RCF: Arrival Segment 2) - domain: [100â€¦816] \n",
    "i3_dep_3_p - planned duration (minutes) of incoming transport leg 3 (DEP: Departure Segment 3) - domain: [LONGINT] \n",
    "i3_dep_3_e - effective (i.e., actual) duration (minutes) of incoming transport leg 3 (DEP: Departure Segment 3) - domain: [LONGINT] \n",
    "i3_dep_3_place - unique id for airport (original IATA codes have been masked due to confidentiality reasons) of incoming transport leg 3 (DEP: Departure Segment 3) - domain: [100â€¦816] \n",
    "i3_rcf_3_p - planned duration (minutes) of incoming transport leg 3 (RCF: Arrival Segment 3) - domain: [LONGINT] \n",
    "i3_rcf_3_e - effective (i.e., actual) duration (minutes) of incoming transport leg 3 (RCF: Arrival Segment 3) - domain: [LONGINT] \n",
    "i3_rcf_3_place - unique id for airport (original IATA codes have been masked due to confidentiality reasons) of incoming transport leg 3 (RCF: Arrival Segment 3) - domain: [100â€¦816] \n",
    "i3_dlv_p - planned duration (minutes) of incoming transport leg 3 (DLV: Freight Delivery) - domain: [LONGINT] \n",
    "i3_dlv_e - effective (i.e., actual) duration (minutes) of incoming transport leg 3 (DLV: Freight Delivery) - domain: [LONGINT] \n",
    "i3_hops - number of segments (hops) in the transport leg of incoming transport leg 3 - domain: [1..4] \n",
    "\n",
    "o_legid - unique id across all transport legs (note: also to 'empty' legs are assigned an id) of outgoing transport leg - domain: [1..14664] \n",
    "o_rcs_p - planned duration (minutes) of outgoing transport leg (RCS: Freight Check in) - domain: [LONGINT] \n",
    "o_rcs_e - effective (i.e., actual) duration (minutes) of outgoing transport leg (RCS: Freight Check in) - domain: [LONGINT] \n",
    "o_dep_1_p - planned duration (minutes) of outgoing transport leg (DEP: Departure Segment 1) - domain: [LONGINT] \n",
    "o_dep_1_e - effective (i.e., actual) duration (minutes) of outgoing transport leg (DEP: Departure Segment 1) - domain: [LONGINT] \n",
    "o_dep_1_place - unique id for airport (original IATA codes have been masked due to confidentiality reasons) of outgoing transport leg (DEP: Departure Segment 1) - domain: [100â€¦816] \n",
    "o_rcf_1_p - planned duration (minutes) of outgoing transport leg (RCF: Arrival Segment 1) - domain: [LONGINT] \n",
    "o_rcf_1_e - effective (i.e., actual) duration (minutes) of outgoing transport leg (RCF: Arrival Segment 1) - domain: [LONGINT] \n",
    "o_rcf_1_place - unique id for airport (original IATA codes have been masked due to confidentiality reasons) of outgoing transport leg (RCF: Arrival Segment 1) - domain: [100â€¦816] \n",
    "o_dep_2_p - planned duration (minutes) of outgoing transport leg (DEP: Departure Segment 2) - domain: [LONGINT] \n",
    "o_dep_2_e - effective (i.e., actual) duration (minutes) of outgoing transport leg (DEP: Departure Segment 2) - domain: [LONGINT] \n",
    "o_dep_2_place - unique id for airport (original IATA codes have been masked due to confidentiality reasons) of outgoing transport leg (DEP: Departure Segment 2) - domain: [100â€¦816] \n",
    "o_rcf_2_p - planned duration (minutes) of outgoing transport leg (RCF: Arrival Segment 2) - domain: [LONGINT] \n",
    "o_rcf_2_e - effective (i.e., actual) duration (minutes) of outgoing transport leg (RCF: Arrival Segment 2) - domain: [LONGINT] \n",
    "o_rcf_2_place - unique id for airport (original IATA codes have been masked due to confidentiality reasons) of outgoing transport leg (RCF: Arrival Segment 2) - domain: [100â€¦816] \n",
    "o_dep_3_p - planned duration (minutes) of outgoing transport leg (DEP: Departure Segment 3) - domain: [LONGINT] \n",
    "o_dep_3_e - effective (i.e., actual) duration (minutes) of outgoing transport leg (DEP: Departure Segment 3) - domain: [LONGINT] \n",
    "o_dep_3_place - unique id for airport (original IATA codes have been masked due to confidentiality reasons) of outgoing transport leg (DEP: Departure Segment 3) - domain: [100â€¦816] \n",
    "o_rcf_3_p - planned duration (minutes) of outgoing transport leg (RCF: Arrival Segment 3) - domain: [LONGINT] \n",
    "o_rcf_3_e - effective (i.e., actual) duration (minutes) of outgoing transport leg (RCF: Arrival Segment 3) - domain: [LONGINT] \n",
    "o_rcf_3_place - unique id for airport (original IATA codes have been masked due to confidentiality reasons) of outgoing transport leg (RCF: Arrival Segment 3) - domain: [100â€¦816] \n",
    "o_dlv_p - planned duration (minutes) of outgoing transport leg (DLV: Freight Delivery) - domain: [LONGINT] \n",
    "o_dlv_e - effective (i.e., actual) duration (minutes) of outgoing transport leg (DLV: Freight Delivery) - domain: [LONGINT] \n",
    "o_hops - number of segments (hops) in the transport leg of outgoing transport leg - domain: [1..4] \n",
    "\n",
    "legs - number of incoming transport legs of overall process - domain: [1..3] \n",
    "\n"
   ]
  },
  {
   "cell_type": "code",
   "execution_count": null,
   "metadata": {
    "scrolled": true
   },
   "outputs": [],
   "source": [
    "df.tail()"
   ]
  },
  {
   "cell_type": "code",
   "execution_count": null,
   "metadata": {},
   "outputs": [],
   "source": [
    "#  Que forma tiene nuestro dataset?\n",
    "df.shape"
   ]
  },
  {
   "cell_type": "code",
   "execution_count": null,
   "metadata": {},
   "outputs": [],
   "source": [
    "#  Que forma tiene nuestro dataset? Despues de nan\n",
    "df.dropna().shape"
   ]
  },
  {
   "cell_type": "code",
   "execution_count": null,
   "metadata": {},
   "outputs": [],
   "source": [
    "# Reemplazar los signos de interrogacion\n",
    "df = df.replace(to_replace='?', value=0, inplace=True)"
   ]
  },
  {
   "cell_type": "code",
   "execution_count": null,
   "metadata": {},
   "outputs": [],
   "source": [
    "# casting\n",
    "df = df.astype('float64')"
   ]
  },
  {
   "cell_type": "code",
   "execution_count": null,
   "metadata": {},
   "outputs": [],
   "source": [
    "df.dtypes"
   ]
  },
  {
   "cell_type": "code",
   "execution_count": null,
   "metadata": {},
   "outputs": [],
   "source": [
    "df.head()"
   ]
  },
  {
   "cell_type": "code",
   "execution_count": null,
   "metadata": {},
   "outputs": [],
   "source": []
  }
 ],
 "metadata": {
  "kernelspec": {
   "display_name": "Python 3",
   "language": "python",
   "name": "python3"
  },
  "language_info": {
   "codemirror_mode": {
    "name": "ipython",
    "version": 3
   },
   "file_extension": ".py",
   "mimetype": "text/x-python",
   "name": "python",
   "nbconvert_exporter": "python",
   "pygments_lexer": "ipython3",
   "version": "3.5.5"
  }
 },
 "nbformat": 4,
 "nbformat_minor": 2
}
