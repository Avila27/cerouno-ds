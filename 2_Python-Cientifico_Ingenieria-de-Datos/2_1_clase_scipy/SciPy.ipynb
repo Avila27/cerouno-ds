{
 "cells": [
  {
   "cell_type": "code",
   "execution_count": 7,
   "metadata": {},
   "outputs": [],
   "source": [
    "import numpy as np\n",
    "import matplotlib.pyplot as plt"
   ]
  },
  {
   "cell_type": "markdown",
   "metadata": {},
   "source": [
    "# 1.5. Scipy : high-level scientific computing\n",
    "\n",
    "El paquete de Scipy contiene varias herramientas dedicadas a situaciones comunes en el cómputo científico. Cada sub-módulo corresponde a distintas aplicaciones, por ejemplo interpolación, integración, optimización, procesamiento de imagénes, estadística, etc.\n",
    "\n",
    "En su mayoria, las funciones disponibles depende de **NumPy** ( `scipy.cos` en realidad es `np.cos`).\n",
    "\n",
    "### Módulos más populares:\n",
    "https://docs.scipy.org/doc/scipy/reference/py-modindex.html\n",
    "\n",
    "Sub-module | Task\n",
    "--------|------\n",
    "scipy.cluster | Vector quantization / Kmeans\n",
    "scipy.constants | Physical and mathematical constants\n",
    "scipy.fftpack | Fourier transform\n",
    "scipy.integrate | Integration routines\n",
    "scipy.interpolate | Interpolation\n",
    "scipy.io | Data input and output\n",
    "scipy.linalg | Linear algebra routines\n",
    "scipy.ndimage | n-dimensional image package\n",
    "scipy.odr | Orthogonal distance regression\n",
    "scipy.optimize | Optimization\n",
    "scipy.signal | Signal processing\n",
    "scipy.sparse | Sparse matrices\n",
    "scipy.spatial | Spatial data structures and algorithms\n",
    "scipy.special | Any special mathematical functions\n",
    "scipy.stats | Statistics\n",
    "\n",
    "\n",
    "## Interpolación - `scipy.interpolate`\n",
    "\n",
    "Imaginemos que tenemos datos de un experimento y la salida es parecida a una función senoidal:"
   ]
  },
  {
   "cell_type": "code",
   "execution_count": 4,
   "metadata": {},
   "outputs": [
    {
     "data": {
      "text/plain": [
       "array([0.        , 0.11111111, 0.22222222, 0.33333333, 0.44444444,\n",
       "       0.55555556, 0.66666667, 0.77777778, 0.88888889, 1.        ])"
      ]
     },
     "execution_count": 4,
     "metadata": {},
     "output_type": "execute_result"
    }
   ],
   "source": [
    "measured_time = np.linspace(0, 1, 10)\n",
    "measured_time"
   ]
  },
  {
   "cell_type": "code",
   "execution_count": 5,
   "metadata": {},
   "outputs": [
    {
     "data": {
      "text/plain": [
       "array([-0.04272296,  0.0312835 , -0.08578147,  0.08775322,  0.02883865,\n",
       "        0.00398011,  0.06899103, -0.05361981, -0.06211039,  0.02908427])"
      ]
     },
     "execution_count": 5,
     "metadata": {},
     "output_type": "execute_result"
    }
   ],
   "source": [
    "noise = (np.random.random(10)*2 - 1) * 1e-1\n",
    "noise"
   ]
  },
  {
   "cell_type": "code",
   "execution_count": 6,
   "metadata": {},
   "outputs": [
    {
     "data": {
      "text/plain": [
       "array([-0.04272296,  0.67407111,  0.89902628,  0.95377863,  0.37085879,\n",
       "       -0.33804004, -0.79703437, -1.03842756, -0.704898  ,  0.02908427])"
      ]
     },
     "execution_count": 6,
     "metadata": {},
     "output_type": "execute_result"
    }
   ],
   "source": [
    "measures = np.sin(2 * np.pi * measured_time) + noise\n",
    "measures"
   ]
  },
  {
   "cell_type": "code",
   "execution_count": 8,
   "metadata": {},
   "outputs": [],
   "source": [
    "# Interpolate it to new time points\n",
    "\n",
    "from scipy.interpolate import interp1d\n",
    "linear_interp = interp1d(measured_time, measures)"
   ]
  },
  {
   "cell_type": "code",
   "execution_count": 9,
   "metadata": {},
   "outputs": [],
   "source": [
    "interpolation_time = np.linspace(0, 1, 50)\n",
    "linear_results = linear_interp(interpolation_time)"
   ]
  },
  {
   "cell_type": "code",
   "execution_count": 10,
   "metadata": {},
   "outputs": [],
   "source": [
    "cubic_interp = interp1d(measured_time, measures, kind='cubic')\n",
    "cubic_results = cubic_interp(interpolation_time)"
   ]
  },
  {
   "cell_type": "code",
   "execution_count": 11,
   "metadata": {},
   "outputs": [
    {
     "data": {
      "image/png": "[encoded data removed]",
      "text/plain": [
       "<Figure size 432x288 with 1 Axes>"
      ]
     },
     "metadata": {},
     "output_type": "display_data"
    }
   ],
   "source": [
    "# Plot the data and the interpolation\n",
    "from matplotlib import pyplot as plt\n",
    "plt.figure(figsize=(6, 4))\n",
    "plt.plot(measured_time, measures, 'o', ms=6, label='measures')\n",
    "plt.plot(interpolation_time, linear_results, label='linear interp')\n",
    "plt.plot(interpolation_time, cubic_results, label='cubic interp')\n",
    "plt.legend()\n",
    "plt.show()"
   ]
  },
  {
   "cell_type": "markdown",
   "metadata": {},
   "source": [
    "**Hablando sobre Ciencia de Datos, bajo qué situaciones es útil interpolar datos?**\n",
    "\n",
    "---\n",
    "\n",
    "## Estadística ` scipy.stats`\n",
    "\n",
    "El módulo `stats` contiene las herramientas de Estadística y Probabilidad para describir eventos o procesos.\n",
    "\n",
    "### Distribuciones.\n",
    "\n",
    "Dadas las obsercaciones de un proceso aleatorio, su histograma es un estimador de su PDF (FPD, Función de densidad de probabilidad):"
   ]
  },
  {
   "cell_type": "code",
   "execution_count": 14,
   "metadata": {},
   "outputs": [
    {
     "data": {
      "text/plain": [
       "array([-4, -3, -2, -1,  0,  1,  2,  3,  4])"
      ]
     },
     "execution_count": 14,
     "metadata": {},
     "output_type": "execute_result"
    }
   ],
   "source": [
    "samples = np.random.normal(size=1000)\n",
    "bins = np.arange(-4, 5)\n",
    "bins"
   ]
  },
  {
   "cell_type": "code",
   "execution_count": 15,
   "metadata": {},
   "outputs": [
    {
     "data": {
      "text/plain": [
       "array([-3.5, -2.5, -1.5, -0.5,  0.5,  1.5,  2.5,  3.5])"
      ]
     },
     "execution_count": 15,
     "metadata": {},
     "output_type": "execute_result"
    }
   ],
   "source": [
    "histogram = np.histogram(samples, bins=bins, normed=True)[0]\n",
    "bins = 0.5*(bins[1:] + bins[:-1])\n",
    "bins"
   ]
  },
  {
   "cell_type": "code",
   "execution_count": 16,
   "metadata": {},
   "outputs": [],
   "source": [
    "from scipy import stats\n",
    "pdf = stats.norm.pdf(bins)"
   ]
  },
  {
   "cell_type": "code",
   "execution_count": 25,
   "metadata": {},
   "outputs": [
    {
     "data": {
      "text/plain": [
       "<matplotlib.legend.Legend at 0x1a217dfb00>"
      ]
     },
     "execution_count": 25,
     "metadata": {},
     "output_type": "execute_result"
    },
    {
     "data": {
      "image/png": "[encoded data removed]",
      "text/plain": [
       "<Figure size 432x288 with 1 Axes>"
      ]
     },
     "metadata": {},
     "output_type": "display_data"
    }
   ],
   "source": [
    "plt.plot(bins, histogram, label=\"Histogram of samples\");\n",
    "plt.plot(bins, pdf, label=\"PDF\") \n",
    "plt.legend()\n",
    "plt.show()b"
   ]
  },
  {
   "cell_type": "markdown",
   "metadata": {},
   "source": [
    "### Media, mediana, percentiles:"
   ]
  },
  {
   "cell_type": "code",
   "execution_count": null,
   "metadata": {},
   "outputs": [],
   "source": []
  }
 ],
 "metadata": {
  "kernelspec": {
   "display_name": "Python 3",
   "language": "python",
   "name": "python3"
  },
  "language_info": {
   "codemirror_mode": {
    "name": "ipython",
    "version": 3
   },
   "file_extension": ".py",
   "mimetype": "text/x-python",
   "name": "python",
   "nbconvert_exporter": "python",
   "pygments_lexer": "ipython3",
   "version": "3.6.5"
  }
 },
 "nbformat": 4,
 "nbformat_minor": 2
}
