{
 "cells": [
  {
   "cell_type": "markdown",
   "metadata": {},
   "source": [
    "# NumPy: La herramienta central para cómputo numérico en Python\n",
    "\n",
    "## NumPy y NumPy arrays:\n",
    "\n",
    "NumPy es un paquete que extiende el lenguaje Python para arreglos multi-dimensionales. Provee:\n",
    "- Eficiencia (\"acercamiento al hardware\")\n",
    "- Conveniencia. Diseñado para cómputo científico\n",
    "    - También conocido como *array oriented computing*\n",
    "- Objetos de Python:\n",
    "    - Contenedores listas y diccionarios más eficientes que los de nativos (costless insertion and append, fast lookup)\n",
    "    - Objetos de alto nivel: Int y float con rangos extendidos del core de Python\n",
    "    \n",
    "Por convención, se recomienda importa el paquete de la siguiente manera:"
   ]
  },
  {
   "cell_type": "code",
   "execution_count": 1,
   "metadata": {},
   "outputs": [],
   "source": [
    "import numpy as np"
   ]
  },
  {
   "cell_type": "markdown",
   "metadata": {},
   "source": [
    "Hola, Mundo! en NumPy:"
   ]
  },
  {
   "cell_type": "code",
   "execution_count": 2,
   "metadata": {},
   "outputs": [],
   "source": [
    "hola_mundo = np.array([0, 1, 2, 3])"
   ]
  },
  {
   "cell_type": "code",
   "execution_count": 3,
   "metadata": {},
   "outputs": [
    {
     "data": {
      "text/plain": [
       "array([0, 1, 2, 3])"
      ]
     },
     "execution_count": 3,
     "metadata": {},
     "output_type": "execute_result"
    }
   ],
   "source": [
    "hola_mundo"
   ]
  },
  {
   "cell_type": "code",
   "execution_count": 28,
   "metadata": {},
   "outputs": [
    {
     "data": {
      "text/plain": [
       "numpy.ndarray"
      ]
     },
     "execution_count": 28,
     "metadata": {},
     "output_type": "execute_result"
    }
   ],
   "source": [
    "type(hola_mundo)"
   ]
  },
  {
   "cell_type": "markdown",
   "metadata": {},
   "source": [
    "Este arreglo (nunpy array) podría contenner:\n",
    "- valores de un experimento o simulación\n",
    "- señales medidas por un sensor (ondas de sonido, PWM, Analog-to-digital_converter, etc)\n",
    "- Pixeles de una imagen\n",
    "- Datos de modelos 3D en posiciones X-Y-X (MRI scan, LIDAR)\n",
    "\n",
    "\n",
    "Por qué es útil?\n",
    "\n",
    "Disponemos de contenedores de datos eficientes en consumo de memoria y con operaciones numéricas bastante rápidas.\n",
    "\n",
    "Documentación de ndarray: https://docs.scipy.org/doc/numpy-1.14.0/reference/arrays.ndarray.html"
   ]
  },
  {
   "cell_type": "code",
   "execution_count": 8,
   "metadata": {},
   "outputs": [],
   "source": [
    "# Python\n",
    "L = range(1000)"
   ]
  },
  {
   "cell_type": "code",
   "execution_count": 5,
   "metadata": {},
   "outputs": [
    {
     "name": "stdout",
     "output_type": "stream",
     "text": [
      "454 µs ± 68.9 µs per loop (mean ± std. dev. of 7 runs, 1000 loops each)\n"
     ]
    }
   ],
   "source": [
    "%timeit [i**2 for i in L]"
   ]
  },
  {
   "cell_type": "code",
   "execution_count": 9,
   "metadata": {},
   "outputs": [],
   "source": [
    "# NumPy\n",
    "a = np.arange(1000)"
   ]
  },
  {
   "cell_type": "code",
   "execution_count": 7,
   "metadata": {},
   "outputs": [
    {
     "name": "stdout",
     "output_type": "stream",
     "text": [
      "2.49 µs ± 544 ns per loop (mean ± std. dev. of 7 runs, 100000 loops each)\n"
     ]
    }
   ],
   "source": [
    "%timeit a**2"
   ]
  },
  {
   "cell_type": "markdown",
   "metadata": {},
   "source": [
    "## Creando Arrays\n",
    "\n",
    "```\n",
    "np.array(n)\n",
    "np.array(n,m)\n",
    "```\n",
    "### 1D:"
   ]
  },
  {
   "cell_type": "code",
   "execution_count": 10,
   "metadata": {},
   "outputs": [],
   "source": [
    "array_1d = np.array([0, 1, 2, 3])"
   ]
  },
  {
   "cell_type": "code",
   "execution_count": 11,
   "metadata": {},
   "outputs": [
    {
     "data": {
      "text/plain": [
       "array([0, 1, 2, 3])"
      ]
     },
     "execution_count": 11,
     "metadata": {},
     "output_type": "execute_result"
    }
   ],
   "source": [
    "array_1d"
   ]
  },
  {
   "cell_type": "code",
   "execution_count": 14,
   "metadata": {},
   "outputs": [
    {
     "data": {
      "text/plain": [
       "1"
      ]
     },
     "execution_count": 14,
     "metadata": {},
     "output_type": "execute_result"
    }
   ],
   "source": [
    "array_1d.ndim"
   ]
  },
  {
   "cell_type": "code",
   "execution_count": 15,
   "metadata": {},
   "outputs": [
    {
     "data": {
      "text/plain": [
       "(4,)"
      ]
     },
     "execution_count": 15,
     "metadata": {},
     "output_type": "execute_result"
    }
   ],
   "source": [
    "array_1d.shape"
   ]
  },
  {
   "cell_type": "code",
   "execution_count": 16,
   "metadata": {},
   "outputs": [
    {
     "data": {
      "text/plain": [
       "4"
      ]
     },
     "execution_count": 16,
     "metadata": {},
     "output_type": "execute_result"
    }
   ],
   "source": [
    "len(array_1d)"
   ]
  },
  {
   "cell_type": "markdown",
   "metadata": {},
   "source": [
    "### 2D/3D:"
   ]
  },
  {
   "cell_type": "code",
   "execution_count": 17,
   "metadata": {},
   "outputs": [],
   "source": [
    "array_2d =  np.array([[0, 1, 2], [3, 4, 5]])    # 2 x 3 array"
   ]
  },
  {
   "cell_type": "code",
   "execution_count": 18,
   "metadata": {},
   "outputs": [
    {
     "data": {
      "text/plain": [
       "array([[0, 1, 2],\n",
       "       [3, 4, 5]])"
      ]
     },
     "execution_count": 18,
     "metadata": {},
     "output_type": "execute_result"
    }
   ],
   "source": [
    "array_2d"
   ]
  },
  {
   "cell_type": "code",
   "execution_count": 20,
   "metadata": {},
   "outputs": [
    {
     "data": {
      "text/plain": [
       "2"
      ]
     },
     "execution_count": 20,
     "metadata": {},
     "output_type": "execute_result"
    }
   ],
   "source": [
    "array_2d.ndim"
   ]
  },
  {
   "cell_type": "code",
   "execution_count": 21,
   "metadata": {},
   "outputs": [
    {
     "data": {
      "text/plain": [
       "array([[0, 1, 2],\n",
       "       [3, 4, 5]])"
      ]
     },
     "execution_count": 21,
     "metadata": {},
     "output_type": "execute_result"
    }
   ],
   "source": [
    "array_2d"
   ]
  },
  {
   "cell_type": "code",
   "execution_count": 22,
   "metadata": {},
   "outputs": [
    {
     "data": {
      "text/plain": [
       "2"
      ]
     },
     "execution_count": 22,
     "metadata": {},
     "output_type": "execute_result"
    }
   ],
   "source": [
    "len(array_2d)"
   ]
  },
  {
   "cell_type": "code",
   "execution_count": 25,
   "metadata": {},
   "outputs": [],
   "source": [
    "array_3d = np.array([[[1], [2]], [[3], [4]]])"
   ]
  },
  {
   "cell_type": "code",
   "execution_count": 26,
   "metadata": {},
   "outputs": [
    {
     "data": {
      "text/plain": [
       "array([[[1],\n",
       "        [2]],\n",
       "\n",
       "       [[3],\n",
       "        [4]]])"
      ]
     },
     "execution_count": 26,
     "metadata": {},
     "output_type": "execute_result"
    }
   ],
   "source": [
    "array_3d"
   ]
  },
  {
   "cell_type": "code",
   "execution_count": 27,
   "metadata": {},
   "outputs": [
    {
     "data": {
      "text/plain": [
       "3"
      ]
     },
     "execution_count": 27,
     "metadata": {},
     "output_type": "execute_result"
    }
   ],
   "source": [
    "array_3d.ndim"
   ]
  },
  {
   "cell_type": "code",
   "execution_count": 29,
   "metadata": {},
   "outputs": [
    {
     "data": {
      "text/plain": [
       "2"
      ]
     },
     "execution_count": 29,
     "metadata": {},
     "output_type": "execute_result"
    }
   ],
   "source": [
    "len(array_3d)"
   ]
  },
  {
   "cell_type": "markdown",
   "metadata": {},
   "source": [
    "En la práctica, rara vez creamos arreglos escribiendo elemento por elemento.\n",
    "Cargamos los elementos de alguna fuente de datos o de archivos propios de NumPy.\n",
    "\n",
    "Usualmente, usamos `arange`, `linspace`, `diag`, o `eye`.\n",
    "NumPy también provee otras cinco formas para crear arreglos aparte de `array()`:\n",
    "\n",
    "1. `arange()`\n",
    "1. `zeros()`\n",
    "1. `ones()`\n",
    "1.  `empty()`\n",
    "1. `random()`\n",
    "\n",
    "Ejercicio: **Qué arreglos regresa cada función?**"
   ]
  },
  {
   "cell_type": "code",
   "execution_count": null,
   "metadata": {},
   "outputs": [],
   "source": []
  },
  {
   "cell_type": "markdown",
   "metadata": {},
   "source": [
    "#### Atributos de ndarray\n",
    "\n",
    "- data\n",
    "- dtype\n",
    "- base\n",
    "- ndim\n",
    "- shape \n",
    "- size\n",
    "- itemsize\n",
    "- nbytes\n",
    "- strides\n",
    "- flags\n",
    "\n",
    "Ejercicio: **De qué nos informa cada atributo?**\n",
    "\n",
    "---\n",
    "Ejercicios:\n",
    "\n",
    "- Crea un arreglo bidimensional con las siguientes propiedades: números pares en el primer renglón, y pares en el segundo. Bonus points, si lo generas usando listas.\n",
    "- Cómo se relacionan la función `len()` de Python cony `numpy.shape()` y el atributo `ndim`?\n",
    "- Para qué funciona la *semilla aleatoria* (`np.random.seed()`)?\n",
    "- Qué hace la función `np.emtpy`? Cuándo seria útil?\n",
    "\n",
    "## Tipos de dato básicos\n",
    "Quizá ya notaste que hay alguna diferencia entre los arreglos con punto flotante y enteros. Esto se debe al tipo de dato usado:"
   ]
  },
  {
   "cell_type": "code",
   "execution_count": 31,
   "metadata": {},
   "outputs": [
    {
     "data": {
      "text/plain": [
       "dtype('int64')"
      ]
     },
     "execution_count": 31,
     "metadata": {},
     "output_type": "execute_result"
    }
   ],
   "source": [
    "a = np.array([1, 2, 3])\n",
    "a.dtype"
   ]
  },
  {
   "cell_type": "code",
   "execution_count": 32,
   "metadata": {},
   "outputs": [
    {
     "data": {
      "text/plain": [
       "dtype('float64')"
      ]
     },
     "execution_count": 32,
     "metadata": {},
     "output_type": "execute_result"
    }
   ],
   "source": [
    "b = np.array([1., 2., 3.])\n",
    "b.dtype"
   ]
  },
  {
   "cell_type": "markdown",
   "metadata": {},
   "source": [
    "Diferentes tipos de dato permiten almacenar datos de una forma más compacta en memoria, aunque la mayoria del tiempo trabajamos con números de punto flotante. **NumPy detecta de forma automática el tipo de dato según el input**.\n",
    "\n",
    "Aunque se puede especificar si lo deseas:"
   ]
  },
  {
   "cell_type": "code",
   "execution_count": 38,
   "metadata": {},
   "outputs": [
    {
     "data": {
      "text/plain": [
       "dtype('float64')"
      ]
     },
     "execution_count": 38,
     "metadata": {},
     "output_type": "execute_result"
    }
   ],
   "source": [
    "c = np.array([1, 2, 3], dtype=float)\n",
    "c.dtype"
   ]
  },
  {
   "cell_type": "markdown",
   "metadata": {},
   "source": [
    "c"
   ]
  },
  {
   "cell_type": "markdown",
   "metadata": {},
   "source": [
    "El tipo de dato por **default** es el de entero de punto flotante:"
   ]
  },
  {
   "cell_type": "code",
   "execution_count": 39,
   "metadata": {},
   "outputs": [
    {
     "data": {
      "text/plain": [
       "dtype('float64')"
      ]
     },
     "execution_count": 39,
     "metadata": {},
     "output_type": "execute_result"
    }
   ],
   "source": [
    "a = np.ones((3, 3))\n",
    "a.dtype"
   ]
  },
  {
   "cell_type": "markdown",
   "metadata": {},
   "source": [
    "Qué otros tipos tenemos?\n",
    "\n",
    "- Complex:"
   ]
  },
  {
   "cell_type": "code",
   "execution_count": 40,
   "metadata": {},
   "outputs": [
    {
     "data": {
      "text/plain": [
       "dtype('complex128')"
      ]
     },
     "execution_count": 40,
     "metadata": {},
     "output_type": "execute_result"
    }
   ],
   "source": [
    "d = np.array([1+2j, 3+4j, 5+6*1j])\n",
    "d.dtype"
   ]
  },
  {
   "cell_type": "markdown",
   "metadata": {},
   "source": [
    "Bool:"
   ]
  },
  {
   "cell_type": "code",
   "execution_count": 41,
   "metadata": {},
   "outputs": [
    {
     "data": {
      "text/plain": [
       "dtype('bool')"
      ]
     },
     "execution_count": 41,
     "metadata": {},
     "output_type": "execute_result"
    }
   ],
   "source": [
    "e = np.array([True, False, False, True])\n",
    "e.dtype"
   ]
  },
  {
   "cell_type": "markdown",
   "metadata": {},
   "source": [
    "Strings:"
   ]
  },
  {
   "cell_type": "code",
   "execution_count": 42,
   "metadata": {},
   "outputs": [
    {
     "data": {
      "text/plain": [
       "dtype('<U7')"
      ]
     },
     "execution_count": 42,
     "metadata": {},
     "output_type": "execute_result"
    }
   ],
   "source": [
    "f = np.array(['Bonjour', 'Hello', 'Hallo',])\n",
    "f.dtype "
   ]
  },
  {
   "cell_type": "markdown",
   "metadata": {},
   "source": [
    "Todos los dtypes! :O\n",
    "![](img/numpy/1.png)\n",
    "![](img/numpy/2.png)\n",
    "![](img/numpy/3.png)\n",
    "\n",
    "*Effective Computation in Physics. P. 205. Table 9.2: Basic NumPy dtypes*\n",
    "-----\n",
    "### DataViz de un ndarray"
   ]
  },
  {
   "cell_type": "code",
   "execution_count": 44,
   "metadata": {},
   "outputs": [],
   "source": [
    "%matplotlib inline "
   ]
  },
  {
   "cell_type": "code",
   "execution_count": 50,
   "metadata": {},
   "outputs": [],
   "source": [
    "import matplotlib.pyplot as plt"
   ]
  },
  {
   "cell_type": "markdown",
   "metadata": {},
   "source": [
    "**1D**"
   ]
  },
  {
   "cell_type": "markdown",
   "metadata": {},
   "source": [
    "x = np.linspace(0, 3, 20)\n",
    "y = np.linspace(0, 9, 20)"
   ]
  },
  {
   "cell_type": "code",
   "execution_count": 47,
   "metadata": {},
   "outputs": [
    {
     "data": {
      "text/plain": [
       "[<matplotlib.lines.Line2D at 0x110f10710>]"
      ]
     },
     "execution_count": 47,
     "metadata": {},
     "output_type": "execute_result"
    },
    {
     "data": {
      "image/png": "[encoded data removed]",
      "text/plain": [
       "<Figure size 432x288 with 1 Axes>"
      ]
     },
     "metadata": {},
     "output_type": "display_data"
    }
   ],
   "source": [
    "plt.plot(x, y, 'o')"
   ]
  },
  {
   "cell_type": "code",
   "execution_count": 48,
   "metadata": {},
   "outputs": [
    {
     "data": {
      "text/plain": [
       "[<matplotlib.lines.Line2D at 0x110f9c2b0>]"
      ]
     },
     "execution_count": 48,
     "metadata": {},
     "output_type": "execute_result"
    },
    {
     "data": {
      "image/png": "[encoded data removed]",
      "text/plain": [
       "<Figure size 432x288 with 1 Axes>"
      ]
     },
     "metadata": {},
     "output_type": "display_data"
    }
   ],
   "source": [
    "plt.plot(x, y)"
   ]
  },
  {
   "cell_type": "code",
   "execution_count": 49,
   "metadata": {
    "scrolled": true
   },
   "outputs": [
    {
     "data": {
      "text/plain": [
       "[<matplotlib.lines.Line2D at 0x1114abf98>]"
      ]
     },
     "execution_count": 49,
     "metadata": {},
     "output_type": "execute_result"
    },
    {
     "data": {
      "image/png": "[encoded data removed]",
      "text/plain": [
       "<Figure size 432x288 with 1 Axes>"
      ]
     },
     "metadata": {},
     "output_type": "display_data"
    }
   ],
   "source": [
    "plt.plot(x, y, '*')"
   ]
  },
  {
   "cell_type": "markdown",
   "metadata": {},
   "source": [
    "**2D arrays**"
   ]
  },
  {
   "cell_type": "code",
   "execution_count": 51,
   "metadata": {},
   "outputs": [],
   "source": [
    "image = np.random.rand(30, 30)"
   ]
  },
  {
   "cell_type": "code",
   "execution_count": 52,
   "metadata": {},
   "outputs": [
    {
     "data": {
      "text/plain": [
       "array([[9.88256017e-02, 9.01279411e-01, 1.73761312e-01, 4.34857257e-01,\n",
       "        6.62346032e-01, 8.74481194e-01, 1.47462365e-01, 6.47436457e-01,\n",
       "        7.36487301e-01, 8.32304953e-01, 3.29138998e-01, 6.87986951e-01,\n",
       "        5.42753727e-01, 5.52502870e-02, 6.31557925e-01, 1.86107588e-01,\n",
       "        9.54052122e-01, 7.86296473e-01, 8.45800001e-01, 5.68801261e-02,\n",
       "        6.26109173e-01, 3.90788554e-01, 3.33672114e-01, 5.11081490e-01,\n",
       "        6.88384074e-02, 3.68714860e-01, 1.45467557e-01, 5.04339036e-01,\n",
       "        7.02644510e-01, 9.15422126e-01],\n",
       "       [9.58077400e-01, 3.69669559e-01, 8.15957649e-01, 2.21792041e-01,\n",
       "        2.43438606e-01, 2.12316027e-01, 1.84303216e-01, 6.84394464e-01,\n",
       "        9.63887318e-01, 8.17876863e-01, 9.40746258e-02, 3.77003859e-02,\n",
       "        6.48109029e-01, 2.49402838e-01, 5.23265893e-01, 7.74292739e-01,\n",
       "        1.95294391e-01, 5.68941857e-01, 8.57101627e-02, 7.39936961e-01,\n",
       "        9.84149985e-01, 4.21186258e-01, 9.99266982e-01, 8.66560008e-02,\n",
       "        8.19916482e-01, 6.95168384e-01, 7.85829562e-01, 3.58048891e-02,\n",
       "        5.24748528e-01, 1.90381288e-01],\n",
       "       [5.38920458e-01, 5.87399471e-01, 8.65068962e-01, 1.72621447e-01,\n",
       "        7.64206840e-01, 3.24967635e-01, 4.38948188e-01, 4.11325689e-01,\n",
       "        8.69921257e-01, 6.53157110e-02, 4.27088088e-01, 6.73348100e-01,\n",
       "        1.11239307e-01, 3.48998994e-01, 9.29837150e-02, 2.11493933e-01,\n",
       "        6.42017460e-01, 3.04107528e-01, 2.56303201e-01, 9.16204420e-01,\n",
       "        3.83489920e-02, 8.06408359e-01, 5.69225087e-01, 4.09242702e-01,\n",
       "        9.12545671e-01, 4.72000568e-01, 2.77605683e-01, 9.00094557e-01,\n",
       "        5.82313839e-01, 5.42413124e-01],\n",
       "       [8.74859282e-01, 3.00092096e-01, 4.19778589e-01, 6.23553240e-01,\n",
       "        9.21732185e-01, 4.75459822e-01, 8.86497653e-01, 6.43136155e-02,\n",
       "        9.52134313e-01, 5.63942656e-02, 6.75567441e-01, 9.80802141e-01,\n",
       "        8.71822054e-02, 2.09098658e-01, 5.36745765e-01, 9.52343309e-01,\n",
       "        4.20778189e-01, 9.62519237e-01, 9.79230293e-01, 3.74686666e-01,\n",
       "        3.90654749e-01, 9.54993505e-01, 4.63403872e-01, 7.34234704e-01,\n",
       "        1.24110368e-01, 1.09571614e-01, 1.48782643e-01, 6.67703651e-01,\n",
       "        6.48358096e-01, 4.59967273e-01],\n",
       "       [8.26974687e-01, 8.45063990e-01, 8.98525051e-02, 7.87769958e-01,\n",
       "        2.62479540e-01, 5.66299842e-01, 3.37401218e-02, 4.01699050e-01,\n",
       "        7.04687942e-01, 2.61751089e-01, 5.93508389e-01, 1.44827705e-01,\n",
       "        4.28561147e-01, 2.42973170e-01, 7.61089853e-01, 3.02390867e-01,\n",
       "        3.88655225e-01, 9.92951298e-01, 9.41724482e-01, 8.47628322e-01,\n",
       "        9.15054973e-01, 9.70761958e-01, 4.60783492e-01, 6.81113471e-01,\n",
       "        5.07739139e-01, 7.72140988e-01, 4.18713614e-01, 1.13279906e-01,\n",
       "        3.32942472e-02, 2.90747553e-01],\n",
       "       [8.86213648e-02, 9.40823232e-02, 9.53673853e-01, 3.79755187e-01,\n",
       "        2.14980654e-01, 3.20225103e-01, 9.43652521e-01, 3.16084356e-01,\n",
       "        1.94212828e-01, 5.68535952e-01, 6.37802903e-01, 5.04020127e-01,\n",
       "        4.89035541e-01, 6.47550469e-01, 2.46076796e-02, 4.77300495e-01,\n",
       "        8.08849602e-01, 4.34823344e-01, 9.99101464e-01, 6.07726856e-01,\n",
       "        8.03226546e-01, 9.71742676e-01, 5.79909760e-01, 3.19294230e-01,\n",
       "        8.55041210e-02, 4.86610864e-04, 9.44358435e-01, 6.45308378e-01,\n",
       "        1.27210941e-02, 2.53423933e-01],\n",
       "       [8.85272862e-01, 9.36973073e-01, 5.53106919e-01, 3.56284389e-01,\n",
       "        4.75274122e-01, 1.85340520e-01, 2.99549851e-01, 8.82222078e-01,\n",
       "        1.66813297e-01, 8.53484402e-01, 8.69240027e-01, 2.09935618e-01,\n",
       "        8.84672631e-01, 7.12902497e-01, 6.96280667e-01, 9.46624210e-01,\n",
       "        2.58532008e-01, 2.99242904e-01, 3.97069821e-01, 6.89620346e-01,\n",
       "        9.38914785e-01, 5.13227367e-01, 4.59342182e-02, 5.95943537e-01,\n",
       "        4.79916038e-01, 9.60947171e-01, 8.56864825e-01, 7.04936639e-01,\n",
       "        3.77323304e-02, 9.51080643e-01],\n",
       "       [4.65312401e-02, 1.07861739e-01, 9.06744688e-01, 9.98036195e-01,\n",
       "        2.03495850e-03, 4.06503957e-01, 5.77132988e-01, 4.22992609e-01,\n",
       "        6.66388525e-01, 3.95758014e-01, 3.66433075e-01, 2.30330737e-01,\n",
       "        8.67383791e-01, 7.08839337e-01, 6.63712703e-01, 5.84594602e-01,\n",
       "        2.54100146e-01, 6.75492788e-01, 3.89918165e-01, 1.34010330e-01,\n",
       "        8.31556040e-01, 7.31958783e-01, 8.04221861e-02, 3.77732371e-02,\n",
       "        5.23689395e-01, 6.12722721e-01, 7.69428267e-01, 2.65777789e-01,\n",
       "        8.94816983e-01, 9.29068676e-01],\n",
       "       [2.30217466e-01, 6.15879539e-01, 6.99383770e-02, 4.43253671e-01,\n",
       "        3.44176276e-01, 6.04396809e-01, 5.85813162e-01, 7.24566414e-01,\n",
       "        5.05026192e-01, 9.27044982e-01, 5.91778030e-01, 7.87193037e-02,\n",
       "        9.52904110e-02, 8.45142980e-01, 9.05116371e-01, 5.04162736e-01,\n",
       "        8.18868674e-01, 9.74959114e-01, 8.84814039e-01, 5.69040737e-01,\n",
       "        8.62980817e-01, 4.68525939e-01, 3.18968987e-01, 6.92884075e-01,\n",
       "        4.08933490e-04, 7.25642409e-01, 2.35167535e-01, 1.64834285e-01,\n",
       "        2.38321025e-01, 2.03972926e-01],\n",
       "       [9.58337056e-01, 5.88295494e-01, 5.35045010e-01, 5.91851107e-01,\n",
       "        1.97356326e-01, 3.86375880e-01, 7.00827012e-01, 9.47729974e-01,\n",
       "        3.36030248e-01, 6.57618184e-01, 8.51013247e-01, 8.50762137e-02,\n",
       "        2.52169792e-01, 8.17616116e-01, 3.63506808e-01, 8.42159406e-01,\n",
       "        5.42020266e-01, 8.12563813e-02, 4.39690242e-01, 7.56330109e-01,\n",
       "        7.22392613e-01, 5.07935697e-01, 8.45589847e-01, 3.53101200e-01,\n",
       "        7.93800462e-01, 1.29541781e-01, 9.48570475e-01, 4.18601558e-01,\n",
       "        1.60642049e-02, 6.02272714e-01],\n",
       "       [4.71540524e-01, 5.52637275e-01, 8.83031456e-01, 2.97861702e-01,\n",
       "        1.46943572e-01, 8.26312920e-01, 6.01761981e-01, 1.82231297e-01,\n",
       "        4.86148214e-01, 8.97453464e-01, 7.08218820e-01, 5.96657455e-01,\n",
       "        6.78997190e-01, 2.00368431e-01, 3.51994220e-02, 7.40851532e-01,\n",
       "        6.22755021e-01, 7.20151680e-01, 2.02507786e-01, 9.81447158e-01,\n",
       "        8.40393285e-01, 3.72382250e-01, 4.32917941e-01, 9.21671921e-01,\n",
       "        7.44389472e-01, 3.55544939e-01, 9.70909268e-01, 2.67147628e-01,\n",
       "        6.92302235e-01, 8.03907834e-01],\n",
       "       [8.64116936e-01, 6.10015335e-01, 1.63010178e-01, 7.34342255e-01,\n",
       "        2.63969459e-01, 1.29801293e-01, 9.80893233e-01, 5.47358698e-01,\n",
       "        3.73143789e-02, 6.18400567e-01, 4.87154057e-01, 5.56149188e-01,\n",
       "        8.88653759e-01, 6.53055795e-01, 8.35008660e-01, 5.49944071e-01,\n",
       "        2.42814462e-01, 6.23584483e-01, 2.32007367e-01, 4.82730291e-02,\n",
       "        9.80155492e-01, 7.90947851e-01, 7.74612200e-03, 8.73328495e-02,\n",
       "        5.36845045e-01, 8.85795676e-01, 6.80011805e-01, 4.35248703e-01,\n",
       "        6.69549558e-01, 2.83671904e-02],\n",
       "       [4.68493902e-01, 2.48572095e-01, 2.61798117e-01, 6.68572518e-01,\n",
       "        7.05105311e-01, 5.41872363e-01, 5.92932298e-01, 3.22201507e-01,\n",
       "        6.55633535e-01, 9.09532862e-01, 7.05946799e-01, 9.13082446e-01,\n",
       "        7.38128907e-01, 6.94171180e-01, 6.35229168e-01, 6.72344275e-01,\n",
       "        5.49673570e-01, 2.61660500e-01, 2.35988791e-01, 8.01015606e-01,\n",
       "        1.76424454e-01, 8.35539643e-01, 1.11339219e-01, 3.57116841e-01,\n",
       "        9.69537862e-01, 5.55952090e-03, 5.10634391e-01, 9.16714301e-01,\n",
       "        3.10263453e-01, 2.62560948e-02],\n",
       "       [6.54740335e-01, 2.20041142e-01, 1.83755205e-01, 8.87546028e-01,\n",
       "        7.15653228e-01, 5.14206173e-01, 5.00941026e-01, 8.69854768e-01,\n",
       "        4.77573045e-01, 8.60247408e-02, 9.62737468e-01, 9.61356347e-01,\n",
       "        2.93409642e-01, 9.10983395e-01, 7.91047132e-02, 3.79429792e-01,\n",
       "        3.52245188e-01, 6.31668459e-01, 6.74078707e-01, 3.80350892e-02,\n",
       "        5.15125790e-01, 6.24055919e-01, 1.07947630e-01, 9.90280682e-04,\n",
       "        5.94400242e-01, 1.31397048e-01, 5.17494688e-01, 4.29585482e-01,\n",
       "        7.05330617e-01, 8.41562756e-01],\n",
       "       [6.93588101e-01, 1.73736320e-01, 1.36639170e-01, 5.31667852e-01,\n",
       "        6.05868190e-01, 6.26153843e-01, 6.81567180e-01, 1.48960546e-01,\n",
       "        9.20447302e-01, 2.17760499e-01, 1.78412686e-01, 1.52128654e-01,\n",
       "        2.95781483e-01, 6.74598578e-01, 7.43383443e-01, 2.35501832e-01,\n",
       "        9.57932987e-01, 7.27883263e-01, 6.32281502e-01, 9.38564632e-02,\n",
       "        1.62636177e-01, 8.43903636e-01, 1.73671878e-01, 8.27633716e-01,\n",
       "        1.37660522e-01, 4.85707065e-01, 8.26879063e-01, 1.63913693e-01,\n",
       "        6.71862439e-01, 7.57432148e-01],\n",
       "       [7.58746918e-01, 5.88284641e-01, 3.41287487e-01, 7.70996068e-01,\n",
       "        5.07988951e-01, 1.78830446e-02, 3.50559256e-01, 5.25844313e-01,\n",
       "        2.33000841e-01, 7.09683541e-01, 8.26672144e-01, 4.77443040e-01,\n",
       "        1.59076059e-02, 7.36754805e-01, 7.05500026e-01, 4.70001949e-02,\n",
       "        3.43746101e-01, 9.24168661e-01, 8.28172726e-01, 3.64274288e-01,\n",
       "        5.55289536e-01, 5.73437813e-01, 4.21164236e-01, 8.46973256e-02,\n",
       "        7.08324517e-01, 9.63972761e-01, 2.66196306e-01, 3.47089563e-01,\n",
       "        5.81308524e-01, 9.01129604e-01],\n",
       "       [9.69511531e-01, 5.79007491e-01, 8.48687892e-01, 2.79380157e-01,\n",
       "        2.22719224e-02, 6.27793559e-01, 7.72595824e-01, 8.96076437e-01,\n",
       "        1.71502305e-01, 4.65350683e-01, 9.32616874e-01, 5.84190402e-02,\n",
       "        4.39390175e-01, 5.34315920e-02, 8.47157754e-01, 3.97519393e-01,\n",
       "        7.21190119e-01, 5.68187567e-01, 5.42446423e-01, 8.31173603e-01,\n",
       "        2.22538186e-01, 1.30414105e-01, 1.81787385e-01, 9.64348223e-01,\n",
       "        2.93380098e-01, 3.24779676e-01, 8.18558950e-01, 8.20329993e-01,\n",
       "        2.71946305e-01, 2.84305059e-01],\n",
       "       [3.28119231e-01, 8.71140080e-01, 9.50120089e-01, 6.48019659e-01,\n",
       "        9.37887377e-01, 9.48482811e-01, 4.88402075e-01, 9.79760544e-01,\n",
       "        6.09291803e-01, 7.95244607e-01, 1.61962368e-01, 5.27119959e-01,\n",
       "        5.16432479e-01, 2.27986224e-01, 3.66952435e-01, 3.17427633e-02,\n",
       "        6.47007373e-01, 5.41304536e-01, 9.11483009e-01, 7.26216857e-01,\n",
       "        7.38076662e-01, 8.14771015e-01, 6.06469004e-01, 3.08765947e-01,\n",
       "        7.60722002e-01, 6.14140611e-01, 4.06668502e-02, 3.71541197e-01,\n",
       "        8.78653640e-02, 8.18801197e-01],\n",
       "       [1.99441975e-01, 2.18209825e-01, 9.94302005e-01, 9.89099884e-01,\n",
       "        6.53587914e-01, 6.53100699e-01, 5.72654203e-01, 3.18052677e-01,\n",
       "        6.28107342e-01, 4.70546855e-01, 9.31585834e-01, 7.99942548e-01,\n",
       "        2.93439089e-01, 9.07781178e-01, 4.44532563e-01, 9.32712253e-01,\n",
       "        9.18882869e-01, 3.64436060e-01, 1.95063428e-01, 6.68669313e-01,\n",
       "        8.91534340e-01, 4.14133771e-01, 4.44375736e-01, 5.59631871e-01,\n",
       "        2.68329328e-02, 4.96005201e-01, 6.23694649e-01, 3.40231077e-01,\n",
       "        7.88369444e-01, 3.89967600e-01],\n",
       "       [9.85834194e-01, 2.99145082e-01, 4.06244268e-03, 6.55760140e-01,\n",
       "        7.88237500e-01, 9.35959962e-01, 7.98933581e-01, 2.15937732e-01,\n",
       "        6.08973641e-01, 8.15881327e-02, 2.05069802e-01, 9.06152518e-01,\n",
       "        6.27956486e-01, 9.80025408e-01, 3.79015035e-01, 2.54375497e-01,\n",
       "        4.85770699e-01, 6.69564411e-01, 3.71173976e-01, 9.53602272e-01,\n",
       "        8.46531487e-01, 9.20638047e-02, 1.39278979e-02, 6.48859061e-01,\n",
       "        6.97170737e-03, 8.56461681e-01, 6.66966886e-02, 8.82378519e-01,\n",
       "        1.41608735e-01, 9.13897265e-01],\n",
       "       [8.59480777e-01, 2.30232326e-01, 1.95574316e-01, 9.60411041e-01,\n",
       "        2.01864194e-01, 1.23162364e-01, 4.26177892e-02, 4.21266210e-02,\n",
       "        5.31016672e-01, 8.33287909e-01, 2.22834402e-01, 1.79768586e-01,\n",
       "        6.05638942e-01, 2.16856591e-01, 7.23624771e-01, 7.72011602e-02,\n",
       "        9.08799904e-01, 5.25879893e-01, 6.51810413e-01, 5.35932793e-01,\n",
       "        1.13973105e-01, 2.41994690e-02, 5.39949001e-01, 8.53653705e-01,\n",
       "        9.72555135e-01, 4.55250869e-01, 6.67505002e-02, 9.69108942e-01,\n",
       "        6.47153198e-02, 5.72663180e-01],\n",
       "       [4.67064067e-01, 8.41252583e-01, 4.39459324e-01, 8.41125885e-01,\n",
       "        7.61863178e-01, 1.07349214e-01, 7.54019727e-01, 8.43286890e-01,\n",
       "        6.39233931e-01, 7.28228405e-02, 9.61114925e-01, 7.04570783e-01,\n",
       "        1.44695734e-01, 3.61785941e-01, 5.53742891e-01, 1.13313300e-01,\n",
       "        6.57953873e-01, 9.34859500e-01, 6.14118149e-01, 7.04225713e-01,\n",
       "        7.36144886e-01, 6.05060848e-01, 8.11155071e-01, 4.65037295e-02,\n",
       "        6.63445619e-01, 4.14736213e-01, 2.89011827e-01, 7.44470603e-01,\n",
       "        3.58398191e-01, 5.42582766e-01],\n",
       "       [8.69147811e-01, 6.25708729e-01, 4.09211639e-01, 9.20498107e-01,\n",
       "        5.18245204e-01, 4.40941997e-01, 5.56047771e-01, 7.55833824e-01,\n",
       "        1.20204243e-01, 2.92181799e-01, 8.44768753e-01, 3.95642145e-02,\n",
       "        2.26641498e-01, 8.21550165e-01, 8.88648146e-01, 1.10068448e-01,\n",
       "        5.11468145e-01, 6.60330200e-01, 8.16170186e-02, 1.48229427e-01,\n",
       "        2.86742277e-01, 4.32023433e-01, 3.59803283e-02, 7.77924526e-01,\n",
       "        6.36146943e-01, 8.97275412e-01, 5.87691765e-01, 4.18810910e-01,\n",
       "        1.44594304e-01, 5.55534552e-01],\n",
       "       [6.15871795e-01, 4.78191631e-01, 1.60840182e-01, 7.83498914e-01,\n",
       "        6.38182783e-01, 8.15943827e-01, 9.83399560e-01, 7.26205670e-01,\n",
       "        7.81441471e-01, 6.41411044e-01, 7.70552405e-01, 7.81788835e-01,\n",
       "        1.07557205e-01, 6.62407360e-01, 4.75084834e-01, 4.47150958e-01,\n",
       "        5.93842209e-02, 2.61987831e-01, 1.24491116e-01, 1.01770592e-01,\n",
       "        7.11706235e-01, 5.37716002e-01, 3.74180333e-01, 6.66263365e-01,\n",
       "        2.03702918e-01, 1.39338586e-01, 1.60582996e-01, 7.04095728e-01,\n",
       "        1.96540098e-01, 5.09518444e-01],\n",
       "       [4.88377566e-01, 6.67031944e-01, 4.42133448e-01, 4.96677115e-01,\n",
       "        8.90789260e-01, 7.53519617e-01, 9.48528812e-01, 9.38696267e-01,\n",
       "        7.18580142e-01, 2.83783983e-02, 1.43601974e-01, 7.58257135e-01,\n",
       "        8.32538152e-01, 4.04610455e-01, 4.56173467e-02, 5.45155422e-02,\n",
       "        3.74328854e-01, 3.74721516e-01, 8.18251702e-01, 7.74645580e-01,\n",
       "        4.10361045e-02, 9.78924021e-01, 1.11563972e-01, 9.16582511e-01,\n",
       "        1.79466191e-01, 8.97581171e-01, 8.80873814e-01, 6.03990105e-01,\n",
       "        8.06686542e-01, 9.02690719e-01],\n",
       "       [6.99696580e-01, 8.05343261e-01, 2.22248360e-01, 2.78827615e-01,\n",
       "        5.33908162e-01, 2.63578118e-01, 8.44053145e-01, 2.24583118e-01,\n",
       "        3.82564387e-02, 3.64730942e-01, 7.92476419e-01, 1.51998520e-01,\n",
       "        2.65845977e-01, 4.71946003e-01, 9.53508057e-01, 2.91759311e-01,\n",
       "        4.33040727e-01, 9.88244386e-01, 3.98877836e-01, 3.68854555e-02,\n",
       "        5.64554111e-01, 8.43116658e-01, 4.34605009e-02, 6.60321497e-01,\n",
       "        2.93861683e-01, 2.22846190e-01, 8.73176959e-01, 5.12467745e-01,\n",
       "        9.99200002e-01, 8.97868808e-01],\n",
       "       [7.84903356e-01, 4.64736955e-01, 6.27706992e-02, 3.26996749e-01,\n",
       "        5.41703780e-01, 4.38819512e-01, 3.96574998e-01, 8.53552681e-01,\n",
       "        6.33327990e-01, 5.31654463e-01, 9.93957742e-02, 4.08978228e-01,\n",
       "        7.50120577e-01, 6.38183068e-01, 7.20700986e-01, 7.32702073e-02,\n",
       "        1.07627209e-01, 6.81934699e-01, 9.95620840e-02, 7.10926125e-01,\n",
       "        1.98329719e-01, 8.10547828e-01, 1.10212618e-01, 9.08932917e-02,\n",
       "        3.28160323e-02, 6.18365857e-01, 5.16920423e-02, 7.90808616e-03,\n",
       "        2.75045893e-01, 2.68785531e-01],\n",
       "       [8.88274995e-01, 7.60617048e-01, 1.45850286e-01, 9.20730534e-01,\n",
       "        1.94570646e-01, 4.09465418e-01, 5.83813855e-02, 1.89875179e-01,\n",
       "        9.57232336e-01, 4.20483130e-01, 3.92960653e-01, 8.63445294e-01,\n",
       "        1.88515216e-01, 2.02329653e-01, 8.13478901e-01, 7.81537610e-01,\n",
       "        8.69577281e-01, 7.89464111e-01, 2.94611164e-01, 1.39632995e-01,\n",
       "        6.56631555e-01, 3.74389525e-01, 5.79426890e-02, 9.16112294e-01,\n",
       "        6.26461313e-01, 3.21916272e-01, 4.29946680e-01, 6.03576925e-01,\n",
       "        8.07577082e-01, 7.75833701e-01],\n",
       "       [6.89750761e-01, 3.25454741e-01, 5.88757000e-01, 7.93650862e-01,\n",
       "        8.66229033e-01, 3.37948746e-02, 6.60338315e-01, 5.53248215e-03,\n",
       "        5.54769535e-01, 5.20536767e-01, 2.74077421e-01, 4.52919662e-01,\n",
       "        8.36755100e-01, 9.52461371e-01, 9.43827267e-01, 1.51231456e-01,\n",
       "        4.45695504e-01, 3.89590755e-01, 8.28983888e-01, 3.28642492e-01,\n",
       "        9.91324310e-02, 3.56474356e-01, 9.47167645e-01, 5.63301740e-02,\n",
       "        1.93403239e-01, 7.93839010e-01, 6.58255197e-01, 9.32031270e-01,\n",
       "        7.54737380e-01, 6.14624072e-01],\n",
       "       [6.75463045e-01, 2.25778844e-01, 7.09210038e-01, 7.26150825e-02,\n",
       "        1.14103607e-01, 2.48486282e-01, 1.75174898e-01, 1.74334829e-01,\n",
       "        8.60896472e-01, 9.73664279e-01, 4.20788184e-01, 7.75821596e-02,\n",
       "        8.92512326e-01, 5.84996373e-01, 5.38233177e-01, 2.17904631e-01,\n",
       "        1.12712440e-01, 3.92931297e-01, 9.09341019e-01, 1.62562829e-01,\n",
       "        6.44691115e-01, 9.95724568e-01, 6.51261944e-01, 2.44704574e-01,\n",
       "        9.22065729e-01, 5.39126709e-01, 3.33878363e-01, 2.55487082e-01,\n",
       "        7.92468472e-01, 8.90567984e-02]])"
      ]
     },
     "execution_count": 52,
     "metadata": {},
     "output_type": "execute_result"
    }
   ],
   "source": [
    "image"
   ]
  },
  {
   "cell_type": "code",
   "execution_count": 53,
   "metadata": {},
   "outputs": [
    {
     "data": {
      "text/plain": [
       "<matplotlib.colorbar.Colorbar at 0x1115ca358>"
      ]
     },
     "execution_count": 53,
     "metadata": {},
     "output_type": "execute_result"
    },
    {
     "data": {
      "image/png": "[encoded data removed]",
      "text/plain": [
       "<Figure size 432x288 with 2 Axes>"
      ]
     },
     "metadata": {},
     "output_type": "display_data"
    }
   ],
   "source": [
    "plt.imshow(image, cmap=plt.cm.hot)    \n",
    "plt.colorbar()  "
   ]
  },
  {
   "cell_type": "markdown",
   "metadata": {},
   "source": [
    "Ejercicio: Prueba otros mapas de color para tu arreglo bidimensional"
   ]
  },
  {
   "cell_type": "code",
   "execution_count": null,
   "metadata": {},
   "outputs": [],
   "source": []
  }
 ],
 "metadata": {
  "kernelspec": {
   "display_name": "Python 3",
   "language": "python",
   "name": "python3"
  },
  "language_info": {
   "codemirror_mode": {
    "name": "ipython",
    "version": 3
   },
   "file_extension": ".py",
   "mimetype": "text/x-python",
   "name": "python",
   "nbconvert_exporter": "python",
   "pygments_lexer": "ipython3",
   "version": "3.6.5"
  }
 },
 "nbformat": 4,
 "nbformat_minor": 2
}
