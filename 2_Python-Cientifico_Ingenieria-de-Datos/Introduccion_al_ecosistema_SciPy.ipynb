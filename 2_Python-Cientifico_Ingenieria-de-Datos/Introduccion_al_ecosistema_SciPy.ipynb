{
 "cells": [
  {
   "cell_type": "code",
   "execution_count": null,
   "metadata": {
    "slideshow": {
     "slide_type": "skip"
    }
   },
   "outputs": [],
   "source": [
    "# Inline interactive widgets\n",
    "%matplotlib nbagg"
   ]
  },
  {
   "cell_type": "code",
   "execution_count": null,
   "metadata": {},
   "outputs": [],
   "source": [
    "%load_ext Cython"
   ]
  },
  {
   "cell_type": "markdown",
   "metadata": {
    "slideshow": {
     "slide_type": "slide"
    }
   },
   "source": [
    "# Ecosistema SciPy"
   ]
  },
  {
   "cell_type": "markdown",
   "metadata": {
    "slideshow": {
     "slide_type": "slide"
    }
   },
   "source": [
    "# Python Scientific Computing Environment\n",
    "\n",
    "Un típico entorno para cómputo científico en Python se compone de distintas herramienas *dedicadas*. Por ejemplo:\n",
    "- Optimización\n",
    "- Plotting (gráficas) y visualización\n",
    "- Análisis de datos\n",
    "- Shell interactiva\n",
    "- Symbolic mathematics (Cálculo simbólico/cálculo algebraico/álgebra computacional/)\n",
    "- Bases de datos\n",
    "- Extensiones especializadas (scikits)"
   ]
  },
  {
   "cell_type": "markdown",
   "metadata": {},
   "source": [
    "# ¿Quién usa SciPy?\n",
    "\n",
    "- Autodesk\n",
    "- Bloomberg\n",
    "- Amazon\n",
    "- Microsoft\n",
    "- Intel"
   ]
  },
  {
   "cell_type": "markdown",
   "metadata": {},
   "source": [
    "# [scipy.org](http://www.scipy.org/)\n",
    "\n",
    "\n",
    "\n",
    "<img src=\"img/scipy-web.png\" style=\"float:center;height:400px\"/>"
   ]
  },
  {
   "cell_type": "markdown",
   "metadata": {
    "slideshow": {
     "slide_type": "slide"
    }
   },
   "source": [
    "# NumPy <img src=\"img/numpy.svg\" style=\"float:right;height:200px\"/>\n",
    "\n",
    "- Provee métodos para arreglos (arrays) y  la clase: numerical N-dimensional array\n",
    "- Soporte básico del ecosistema\n",
    "- Disintinto de `array`"
   ]
  },
  {
   "cell_type": "code",
   "execution_count": null,
   "metadata": {
    "slideshow": {
     "slide_type": "-"
    }
   },
   "outputs": [],
   "source": [
    "import numpy as np\n",
    "np.arange(10)"
   ]
  },
  {
   "cell_type": "markdown",
   "metadata": {},
   "source": [
    "- Implementado mayormente en C\n",
    " - Se puede extender a otras herramientas de análisis númerico\n",
    " - Rapidez"
   ]
  },
  {
   "cell_type": "code",
   "execution_count": null,
   "metadata": {},
   "outputs": [],
   "source": [
    "a_pythonic = list(range(10000))\n",
    "%timeit [v ** 2 for v in a_pythonic]"
   ]
  },
  {
   "cell_type": "code",
   "execution_count": null,
   "metadata": {},
   "outputs": [],
   "source": [
    "b_numpy = np.array(a_pythonic)\n",
    "%timeit b_numpy ** 2"
   ]
  },
  {
   "cell_type": "markdown",
   "metadata": {
    "slideshow": {
     "slide_type": "slide"
    }
   },
   "source": [
    "\n",
    "## Array Indexing"
   ]
  },
  {
   "cell_type": "code",
   "execution_count": null,
   "metadata": {},
   "outputs": [],
   "source": [
    "x = np.arange(100).reshape(5, 20)\n",
    "\n",
    "# Simple indexing\n",
    "print(x[2])"
   ]
  },
  {
   "cell_type": "code",
   "execution_count": null,
   "metadata": {},
   "outputs": [],
   "source": [
    "# Slicing\n",
    "print(x[2:5])"
   ]
  },
  {
   "cell_type": "code",
   "execution_count": null,
   "metadata": {
    "slideshow": {
     "slide_type": "slide"
    }
   },
   "outputs": [],
   "source": [
    "# Boolean indexing\n",
    "print(x[(x % 2) ==0])"
   ]
  },
  {
   "cell_type": "code",
   "execution_count": null,
   "metadata": {},
   "outputs": [],
   "source": [
    "# Fancy indexing\n",
    "print(x[[1, 4, 2]])"
   ]
  },
  {
   "cell_type": "markdown",
   "metadata": {
    "slideshow": {
     "slide_type": "slide"
    }
   },
   "source": [
    "## Polinomios\n",
    "$$ p(x) = 1 + 2x + 3x^2 $$"
   ]
  },
  {
   "cell_type": "code",
   "execution_count": null,
   "metadata": {},
   "outputs": [],
   "source": [
    "import numpy as np\n",
    "from numpy.polynomial import Polynomial as P\n",
    "\n",
    "# p(x) = 1 + 2*x + 3*(x)^2\n",
    "polinomio = P([1,2,3])\n",
    "print(polinomio)\n",
    "\n",
    "# Suma\n",
    "print(polinomio + polinomio)\n",
    "\n",
    "# Resta\n",
    "print(polinomio - polinomio)\n"
   ]
  },
  {
   "cell_type": "markdown",
   "metadata": {},
   "source": [
    "Para aprender más: [An Introduction to Scientific Python (and a Bit of the Maths Behind It) – NumPy](http://www.kdnuggets.com/2016/06/intro-scientific-python-numpy.html)"
   ]
  },
  {
   "cell_type": "markdown",
   "metadata": {
    "slideshow": {
     "slide_type": "slide"
    }
   },
   "source": [
    "# Matplotlib <img src=\"img/matplotlib.png\" style=\"float:right;height:250px\">\n",
    " - Una imagen vale más que mil palabras\n",
    " - Las tablas no lo son todo\n",
    " - Herramienta multiplataforma\n",
    " - Con soporte interactivo"
   ]
  },
  {
   "cell_type": "markdown",
   "metadata": {
    "slideshow": {
     "slide_type": "slide"
    }
   },
   "source": [
    "Como crear una gráfica en tres líneas de código:"
   ]
  },
  {
   "cell_type": "code",
   "execution_count": null,
   "metadata": {},
   "outputs": [],
   "source": [
    "import matplotlib.pyplot as plt\n",
    "plt.plot([1, 5, 3])\n",
    "plt.show()"
   ]
  },
  {
   "cell_type": "markdown",
   "metadata": {
    "collapsed": true,
    "slideshow": {
     "slide_type": "slide"
    }
   },
   "source": [
    " - Amigable y no obstrusivo\n",
    " - Control de detalles \n",
    " - [Variedad de estilos para gráficas](http://nbviewer.jupyter.org/github/WeatherGod/AnatomyOfMatplotlib/blob/master/AnatomyOfMatplotlib-Part2-Plotting_Methods_Overview.ipynb)\n",
    " - [Interactive Applications using Matplotlib](https://www.amazon.com/Interactive-Applications-using-Matplotlib-Benjamin/dp/1783988843?ie=UTF8&ref_=tmm_pap_title_0)"
   ]
  },
  {
   "cell_type": "markdown",
   "metadata": {
    "slideshow": {
     "slide_type": "slide"
    }
   },
   "source": [
    "# SciPy  <img src=\"img/scipy_med.png\" style='float:right;width:200px'>\n",
    "- Un paso adelante de algoritmos básicos de Matemáticas (`import math`)\n",
    "- Contiene algoritmos para diferentes dominios\n",
    " - `constants`\n",
    " - `cluster`\n",
    " - `fftpack`\n",
    " - `integrate`"
   ]
  },
  {
   "cell_type": "code",
   "execution_count": null,
   "metadata": {},
   "outputs": [],
   "source": [
    "from scipy import constants\n",
    "import pint\n",
    "ureg = pint.UnitRegistry()\n",
    "m = 10 * ureg.kg\n",
    "c = constants.c * ureg.meters / ureg.second\n",
    "E = m*c**2\n",
    "print(E)"
   ]
  },
  {
   "cell_type": "markdown",
   "metadata": {
    "slideshow": {
     "slide_type": "slide"
    }
   },
   "source": [
    "- `interpolate`"
   ]
  },
  {
   "cell_type": "code",
   "execution_count": null,
   "metadata": {},
   "outputs": [],
   "source": [
    "from scipy import interpolate\n",
    "x, y = np.linspace(-5, 5, 25), np.linspace(-5, 5, 25)\n",
    "xx, yy = np.meshgrid(x, y)\n",
    "z = np.sin(xx**2+yy**2)\n",
    "f_rect = interpolate.RectBivariateSpline(x, y, z)\n",
    "\n",
    "xnew, ynew = np.linspace(-4.5, 4.5, 1000), np.linspace(-4.5, 4.5, 1000)\n",
    "znew = f_rect(xnew, ynew)"
   ]
  },
  {
   "cell_type": "code",
   "execution_count": null,
   "metadata": {},
   "outputs": [],
   "source": [
    "fig, axes = plt.subplots(1, 2)\n",
    "axes[0].imshow(z, vmin=-1, vmax=1)\n",
    "axes[1].imshow(znew, vmin=-1, vmax=1)"
   ]
  },
  {
   "cell_type": "markdown",
   "metadata": {
    "slideshow": {
     "slide_type": "slide"
    }
   },
   "source": [
    "- `io` - Soporte para formatos especificos usandos en investigación\n",
    " - matlab, fortran, netcdf3, arff, IDL, wav\n",
    " \n",
    "- `ndimage` - Filtros, transformaciones, convoluciones\n",
    " - `measurements` (estadística en pixeles con una categoría)\n",
    " - `morphology` (erosión, dilatación)\n",
    " - Para funciones avanzadas: [`scikit-image`](http://scikit-image.org)"
   ]
  },
  {
   "cell_type": "code",
   "execution_count": null,
   "metadata": {},
   "outputs": [],
   "source": [
    "n_stores = 5\n",
    "n_customers = 500\n",
    "stores = np.random.random((n_stores, 2)) * 400\n",
    "customers = np.random.random((n_customers, 2)) * 400\n",
    "threshold = 200"
   ]
  },
  {
   "cell_type": "code",
   "execution_count": null,
   "metadata": {},
   "outputs": [],
   "source": [
    "d = np.hypot(stores[:, 0][:, np.newaxis] -\n",
    "             customers[:, 0][np.newaxis, :],\n",
    "             stores[:, 1][:, np.newaxis] -\n",
    "             customers[:, 1][np.newaxis, :])\n",
    "indexes = np.argmin(d, axis=0)\n",
    "d = d[indexes, np.arange(len(indexes))]\n",
    "d[d > threshold] = np.inf\n",
    "indexes[np.isinf(d)] = len(indexes)\n",
    "rev_indexes = [np.where(indexes == store_i)\n",
    "               for store_i in range(len(stores))]"
   ]
  },
  {
   "cell_type": "code",
   "execution_count": null,
   "metadata": {},
   "outputs": [],
   "source": [
    "fig, ax = plt.subplots()\n",
    "for inds, in rev_indexes:\n",
    "    ax.plot(customers[inds, 0], customers[inds, 1], '.')\n",
    "ax.plot(stores[:, 0], stores[:, 1], '*y', markersize=25,\n",
    "        mec='k', mew=3)"
   ]
  },
  {
   "cell_type": "markdown",
   "metadata": {
    "slideshow": {
     "slide_type": "slide"
    }
   },
   "source": [
    "- `spatial`"
   ]
  },
  {
   "cell_type": "code",
   "execution_count": null,
   "metadata": {
    "slideshow": {
     "slide_type": "fragment"
    }
   },
   "outputs": [],
   "source": [
    "from scipy.spatial import cKDTree as KDTree"
   ]
  },
  {
   "cell_type": "code",
   "execution_count": null,
   "metadata": {},
   "outputs": [],
   "source": [
    "%%timeit\n",
    "store_tree = KDTree(stores)\n",
    "d, indexes = store_tree.query(customers,\n",
    "                              distance_upper_bound=threshold)\n",
    "rev_indexes = [np.where(indexes == store_i)\n",
    "               for store_i in range(len(stores))]    "
   ]
  },
  {
   "cell_type": "markdown",
   "metadata": {
    "slideshow": {
     "slide_type": "slide"
    }
   },
   "source": [
    "- `stats` - Distribuciones estadīsticas \n",
    " - Generación de datos aleatorios en base a una distribución\n",
    "\n",
    "- Para más funciones de Estadistíca, tenemos el paquete [statsmodels](http://statsmodels.sourceforge.net/)\n",
    "- [patsy - Describing statistical models in Python](https://github.com/pydata/patsy)"
   ]
  },
  {
   "cell_type": "markdown",
   "metadata": {
    "slideshow": {
     "slide_type": "slide"
    }
   },
   "source": [
    "- `special`\n",
    " - Funciones Lambda, pero no `lambda`"
   ]
  },
  {
   "cell_type": "markdown",
   "metadata": {
    "slideshow": {
     "slide_type": "slide"
    }
   },
   "source": [
    "# Resto del ecosistema SciPy"
   ]
  },
  {
   "cell_type": "markdown",
   "metadata": {
    "slideshow": {
     "slide_type": "slide"
    }
   },
   "source": [
    "## Visualización\n",
    "\n",
    "<img src='img/cartopy.png' style='float:right;height:200px'>\n",
    "  - [`bokeh`](http://bokeh.pydata.org/en/latest/)\n",
    "  - [`seaborn`](https://stanford.edu/~mwaskom/software/seaborn/)\n",
    "  - [`cartopy`](http://scitools.org.uk/cartopy/)\n",
    "  - [`ggplot`](http://ggplot.yhathq.com/)\n",
    "  - [`descartes`](https://bitbucket.org/sgillies/descartes/)\n",
    "  - [`mayavi`](http://code.enthought.com/projects/mayavi/)\n",
    "  - [`vispy`](http://vispy.org) & [`glumpy`](https://glumpy.github.io/)"
   ]
  },
  {
   "cell_type": "code",
   "execution_count": null,
   "metadata": {
    "slideshow": {
     "slide_type": "slide"
    }
   },
   "outputs": [],
   "source": [
    "from collections import OrderedDict\n",
    "from math import log, sqrt\n",
    "\n",
    "import numpy as np\n",
    "import pandas as pd\n",
    "from six.moves import cStringIO as StringIO\n",
    "\n",
    "from bokeh.plotting import figure, show, output_file\n",
    "\n",
    "antibiotics = \"\"\"\n",
    "bacteria,                        penicillin, streptomycin, neomycin, gram\n",
    "Mycobacterium tuberculosis,      800,        5,            2,        negative\n",
    "Salmonella schottmuelleri,       10,         0.8,          0.09,     negative\n",
    "Proteus vulgaris,                3,          0.1,          0.1,      negative\n",
    "Klebsiella pneumoniae,           850,        1.2,          1,        negative\n",
    "Brucella abortus,                1,          2,            0.02,     negative\n",
    "Pseudomonas aeruginosa,          850,        2,            0.4,      negative\n",
    "Escherichia coli,                100,        0.4,          0.1,      negative\n",
    "Salmonella (Eberthella) typhosa, 1,          0.4,          0.008,    negative\n",
    "Aerobacter aerogenes,            870,        1,            1.6,      negative\n",
    "Brucella antracis,               0.001,      0.01,         0.007,    positive\n",
    "Streptococcus fecalis,           1,          1,            0.1,      positive\n",
    "Staphylococcus aureus,           0.03,       0.03,         0.001,    positive\n",
    "Staphylococcus albus,            0.007,      0.1,          0.001,    positive\n",
    "Streptococcus hemolyticus,       0.001,      14,           10,       positive\n",
    "Streptococcus viridans,          0.005,      10,           40,       positive\n",
    "Diplococcus pneumoniae,          0.005,      11,           10,       positive\n",
    "\"\"\"\n",
    "\n",
    "drug_color = OrderedDict([\n",
    "    (\"Penicillin\",   \"#0d3362\"),\n",
    "    (\"Streptomycin\", \"#c64737\"),\n",
    "    (\"Neomycin\",     \"black\"  ),\n",
    "])\n",
    "\n",
    "gram_color = {\n",
    "    \"positive\" : \"#aeaeb8\",\n",
    "    \"negative\" : \"#e69584\",\n",
    "}\n",
    "\n",
    "df = pd.read_csv(StringIO(antibiotics),\n",
    "                 skiprows=1,\n",
    "                 skipinitialspace=True,\n",
    "                 engine='python')\n",
    "\n",
    "width = 800\n",
    "height = 800\n",
    "inner_radius = 90\n",
    "outer_radius = 300 - 10\n",
    "\n",
    "minr = sqrt(log(.001 * 1E4))\n",
    "maxr = sqrt(log(1000 * 1E4))\n",
    "a = (outer_radius - inner_radius) / (minr - maxr)\n",
    "b = inner_radius - a * maxr\n",
    "\n",
    "def rad(mic):\n",
    "    return a * np.sqrt(np.log(mic * 1E4)) + b\n",
    "\n",
    "big_angle = 2.0 * np.pi / (len(df) + 1)\n",
    "small_angle = big_angle / 7\n",
    "\n",
    "p = figure(plot_width=width, plot_height=height, title=\"\",\n",
    "    x_axis_type=None, y_axis_type=None,\n",
    "    x_range=(-420, 420), y_range=(-420, 420),\n",
    "    min_border=0, outline_line_color=\"black\",\n",
    "    background_fill_color=\"#f0e1d2\")\n",
    "\n",
    "p.xgrid.grid_line_color = None\n",
    "p.ygrid.grid_line_color = None\n",
    "\n",
    "# annular wedges\n",
    "angles = np.pi/2 - big_angle/2 - df.index.to_series()*big_angle\n",
    "colors = [gram_color[gram] for gram in df.gram]\n",
    "p.annular_wedge(\n",
    "    0, 0, inner_radius, outer_radius, -big_angle+angles, angles, color=colors,\n",
    ")\n",
    "\n",
    "# small wedges\n",
    "p.annular_wedge(0, 0, inner_radius, rad(df.penicillin),\n",
    "                -big_angle+angles+5*small_angle, -big_angle+angles+6*small_angle,\n",
    "                color=drug_color['Penicillin'])\n",
    "p.annular_wedge(0, 0, inner_radius, rad(df.streptomycin),\n",
    "                -big_angle+angles+3*small_angle, -big_angle+angles+4*small_angle,\n",
    "                color=drug_color['Streptomycin'])\n",
    "p.annular_wedge(0, 0, inner_radius, rad(df.neomycin),\n",
    "                -big_angle+angles+1*small_angle, -big_angle+angles+2*small_angle,\n",
    "                color=drug_color['Neomycin'])\n",
    "\n",
    "# circular axes and lables\n",
    "labels = np.power(10.0, np.arange(-3, 4))\n",
    "radii = a * np.sqrt(np.log(labels * 1E4)) + b\n",
    "p.circle(0, 0, radius=radii, fill_color=None, line_color=\"white\")\n",
    "p.text(0, radii[:-1], [str(r) for r in labels[:-1]],\n",
    "       text_font_size=\"8pt\", text_align=\"center\", text_baseline=\"middle\")\n",
    "\n",
    "# radial axes\n",
    "p.annular_wedge(0, 0, inner_radius-10, outer_radius+10,\n",
    "                -big_angle+angles, -big_angle+angles, color=\"black\")\n",
    "\n",
    "# bacteria labels\n",
    "xr = radii[0]*np.cos(np.array(-big_angle/2 + angles))\n",
    "yr = radii[0]*np.sin(np.array(-big_angle/2 + angles))\n",
    "label_angle=np.array(-big_angle/2+angles)\n",
    "label_angle[label_angle < -np.pi/2] += np.pi # easier to read labels on the left side\n",
    "p.text(xr, yr, df.bacteria, angle=label_angle,\n",
    "       text_font_size=\"9pt\", text_align=\"center\", text_baseline=\"middle\")\n",
    "\n",
    "# OK, these hand drawn legends are pretty clunky, will be improved in future release\n",
    "p.circle([-40, -40], [-370, -390], color=list(gram_color.values()), radius=5)\n",
    "p.text([-30, -30], [-370, -390], text=[\"Gram-\" + gr for gr in gram_color.keys()],\n",
    "       text_font_size=\"7pt\", text_align=\"left\", text_baseline=\"middle\")\n",
    "\n",
    "p.rect([-40, -40, -40], [18, 0, -18], width=30, height=13,\n",
    "       color=list(drug_color.values()))\n",
    "p.text([-15, -15, -15], [18, 0, -18], text=list(drug_color),\n",
    "       text_font_size=\"9pt\", text_align=\"left\", text_baseline=\"middle\")\n",
    "\n",
    "output_file(\"burtin.html\", title=\"burtin.py example\")\n",
    "\n",
    "show(p)"
   ]
  },
  {
   "cell_type": "markdown",
   "metadata": {},
   "source": [
    "## PyData y la evolución de los arrays <img src='img/pydata.png' style='float:right;height:200px'>\n",
    "  - [`pandas`](http://pandas.pydata.org/)\n",
    "  - [`xarray`](http://xarray.pydata.org/)\n",
    "  - [`pytables`](http://pytables.org/)\n",
    "  - [`ibis`](http://www.ibis-project.org/)\n",
    "  - [`odo`](http://odo.readthedocs.org/en/latest/)\n",
    "  - [`blaze`](http://blaze.readthedocs.org/en/latest/index.html)\n",
    "  - [`pint`](https://pint.readthedocs.org)"
   ]
  },
  {
   "cell_type": "markdown",
   "metadata": {},
   "source": [
    "## Cython / python with rockets <img src='img/cython.png' style='float:right;height:200px'>\n",
    "  - [`cython`](http://cython.org/)\n",
    "  - [`numba`](http://numba.pydata.org/)\n",
    "  - [`numexpr`](https://github.com/pydata/numexpr)\n",
    "  - [`dask`](http://dask.pydata.org/en/latest/)\n",
    "  - [`theano`](http://deeplearning.net/software/theano/)"
   ]
  },
  {
   "cell_type": "code",
   "execution_count": null,
   "metadata": {},
   "outputs": [],
   "source": [
    "def pyprimes(kmax):\n",
    "    p = [0] * 1000\n",
    "    result = []\n",
    "    if kmax > 1000:\n",
    "        kmax = 1000\n",
    "    k = 0\n",
    "    n = 2\n",
    "    while k < kmax:\n",
    "        i = 0\n",
    "        while i < k and n % p[i] != 0:\n",
    "            i = i + 1\n",
    "        if i == k:\n",
    "            p[k] = n\n",
    "            k = k + 1\n",
    "            result.append(n)\n",
    "        n = n + 1\n",
    "    return result"
   ]
  },
  {
   "cell_type": "code",
   "execution_count": null,
   "metadata": {
    "scrolled": true
   },
   "outputs": [],
   "source": [
    "%%cython\n",
    "\n",
    "def cprimes(int kmax):\n",
    "    cdef int n, k, i\n",
    "    cdef int p[1000]\n",
    "    result = []\n",
    "    if kmax > 1000:\n",
    "        kmax = 1000\n",
    "    k = 0\n",
    "    n = 2\n",
    "    while k < kmax:\n",
    "        i = 0\n",
    "        while i < k and n % p[i] != 0:\n",
    "            i = i + 1\n",
    "        if i == k:\n",
    "            p[k] = n\n",
    "            k = k + 1\n",
    "            result.append(n)\n",
    "        n = n + 1\n",
    "    return result"
   ]
  },
  {
   "cell_type": "code",
   "execution_count": null,
   "metadata": {
    "slideshow": {
     "slide_type": "slide"
    }
   },
   "outputs": [],
   "source": [
    "%timeit pyprimes(5000)\n",
    "%timeit cprimes(5000)\n"
   ]
  },
  {
   "cell_type": "markdown",
   "metadata": {
    "slideshow": {
     "slide_type": "slide"
    }
   },
   "source": [
    "## Symbolic math <img src='img/sympy_logo.png' style='float:right;height:200px'>\n",
    "  - [`sympy`](http://sympy.org/)\n",
    "  - [`sage`](http://www.sagemath.org/)\n",
    "  - [`patsy`](http://patsy.readthedocs.org/en/latest/index.html)"
   ]
  },
  {
   "cell_type": "markdown",
   "metadata": {
    "slideshow": {
     "slide_type": "slide"
    }
   },
   "source": [
    "## Geographic Processing\n",
    "  - GDAL/OGR  (`osgeo.ogr` & `osgeo.osr`)\n",
    "  - [`fiona`](http://toblerity.org/fiona/)\n",
    "  - [`geopandas`](http://geopandas.org/)\n",
    "  - [`shapely`](http://toblerity.org/shapely/)\n",
    "  - [`pyproj`](http://jswhit.github.io/pyproj/)\n",
    "  - [`geopy`](https://geopy.readthedocs.io/)"
   ]
  },
  {
   "cell_type": "code",
   "execution_count": null,
   "metadata": {
    "slideshow": {
     "slide_type": "slide"
    }
   },
   "outputs": [],
   "source": [
    "from shapely.geometry import Point\n",
    "a = Point(1, 1).buffer(1.5)\n",
    "b = Point(2, 1).buffer(1.5)\n",
    "c = a.intersection(b)\n",
    "\n",
    "print(c.area)\n",
    "print(c.length)\n",
    "print(c.bounds)"
   ]
  },
  {
   "cell_type": "code",
   "execution_count": null,
   "metadata": {
    "slideshow": {
     "slide_type": "fragment"
    }
   },
   "outputs": [],
   "source": [
    "from descartes import PolygonPatch \n",
    "fig, ax = plt.subplots()\n",
    "ax.set_xlim(-1, 4); ax.set_ylim(-1, 3)\n",
    "for p, color in zip([a, b, c], 'rcy'):\n",
    "    ax.add_patch(PolygonPatch(p, fc=color))"
   ]
  },
  {
   "cell_type": "markdown",
   "metadata": {
    "collapsed": true,
    "slideshow": {
     "slide_type": "slide"
    }
   },
   "source": [
    "## Formatos de archivo para Ciencia/Investigación  <img src='img/logo-pytables-small.png' style='float:right;height:100px'>\n",
    "  - [`netCDF4`](http://unidata.github.io/netcdf4-python/)\n",
    "  - [`pytables`](http://pytables.org)\n",
    "  - [`h5py`](http://www.h5py.org/)\n",
    "  - [`PyNIO`](https://www.pyngl.ucar.edu/Nio.shtml)\n",
    "  - GDAL (`osgeo.gdal`)\n",
    "  - [`rasterio`](https://github.com/mapbox/rasterio)"
   ]
  },
  {
   "cell_type": "markdown",
   "metadata": {},
   "source": [
    "# Scikits / Dominio especial\n",
    "\n",
    "<img src='img/scikit-image.png' style='float:right;height:100px'>\n",
    "  - [`scikit-image`](http://scikit-image.org)\n",
    "  - [`scikit-learn`](http://scikit-learn.org/stable/)\n",
    "  - [`astropy`](http://astropy.org)\n",
    "  - [`statsmodels`](http://statsmodels.sourceforge.net/)\n",
    "  - [`metpy`](https://github.com/MetPy/MetPy)\n",
    "  - [`pyart`](http://arm-doe.github.io/pyart/)\n",
    "  - [Lista Completa](http://scikits.appspot.com/scikits)"
   ]
  },
  {
   "cell_type": "markdown",
   "metadata": {
    "slideshow": {
     "slide_type": "slide"
    }
   },
   "source": [
    "## Documentación / Guías de estudio\n",
    "\n",
    "- [Documentation for core SciPy Stack projects](http://www.scipy.org/docs.html)\n",
    "- [Lectures on scientific computing with Python, as IPython notebooks. ](https://github.com/jrjohansson/scientific-python-lectures)\n",
    "- [Scipy Lecture Notes. One document to learn numerics, science, and data with Python](http://www.scipy-lectures.org/)\n",
    "- [A Crash Course in Python for Scientists](http://nbviewer.jupyter.org/gist/rpmuller/5920182)"
   ]
  },
  {
   "cell_type": "markdown",
   "metadata": {
    "slideshow": {
     "slide_type": "subslide"
    }
   },
   "source": [
    "## Libros\n",
    "- [Python for Data Analysis](http://shop.oreilly.com/product/0636920023784.do): Wes Mckinney\n",
    "- [Cython - A Guide for Python Programmers](http://shop.oreilly.com/product/0636920033431.do): Kurt Smith\n",
    "- [Effective Computation in Physics - Field Guide to Research with Python](http://shop.oreilly.com/product/0636920033424.do): Anthony Scopatz & Katy Huff\n",
    "- [Mastering Matplotlib](http://www.amazon.com/dp/1783987545/ref=pd_lpo_sbs_dp_ss_1?pf_rd_p=1944687622&pf_rd_s=lpo-top-stripe-1&pf_rd_t=201&pf_rd_i=1783988843&pf_rd_m=ATVPDKIKX0DER&pf_rd_r=0SB7JQVV0V78AWESMCEB): Duncan McGreggor"
   ]
  },
  {
   "cell_type": "markdown",
   "metadata": {
    "slideshow": {
     "slide_type": "slide"
    }
   },
   "source": [
    "## 🐍\n",
    "- Vistazo general del ecosistema\n",
    "- Omitimos Bio y visualización 3D\n",
    "- [Scientific Computing with Python | Austin, Texas • July 11-17, 2016](http://scipy2016.scipy.org/ehome/index.php?eventid=146062&tabid=332930&)"
   ]
  },
  {
   "cell_type": "code",
   "execution_count": null,
   "metadata": {},
   "outputs": [],
   "source": []
  }
 ],
 "metadata": {
  "celltoolbar": "Slideshow",
  "kernelspec": {
   "display_name": "Python 3",
   "language": "python",
   "name": "python3"
  },
  "language_info": {
   "codemirror_mode": {
    "name": "ipython",
    "version": 3
   },
   "file_extension": ".py",
   "mimetype": "text/x-python",
   "name": "python",
   "nbconvert_exporter": "python",
   "pygments_lexer": "ipython3",
   "version": "3.6.5"
  }
 },
 "nbformat": 4,
 "nbformat_minor": 1
}
