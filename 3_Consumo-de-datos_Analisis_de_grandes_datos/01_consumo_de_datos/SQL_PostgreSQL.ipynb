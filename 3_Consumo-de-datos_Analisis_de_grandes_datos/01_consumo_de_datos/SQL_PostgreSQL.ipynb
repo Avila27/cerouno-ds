{
 "cells": [
  {
   "cell_type": "markdown",
   "metadata": {},
   "source": [
    "# SQL Overview\n",
    "\n",
    "## Requisitos:\n",
    "\n",
    "- Docker (Windows y OSX: http://kitematic.com/)\n",
    "- pgAdmin3: https://www.pgadmin.org/download/\n",
    "- Python (modulos: sqlalchemy, psycopg2)\n",
    "- Sample database: http://www.postgresqltutorial.com/wp-content/uploads/2017/10/dvdrental.zip\n",
    "    - https://dev.mysql.com/doc/sakila/en/\n",
    "    - http://www.postgresqltutorial.com/postgresql-sample-database/\n",
    "\n",
    "\n",
    "\n",
    "## Descripción de la DB a usar\n",
    "-DVD Rental database\n",
    "    - 15 tablas\n",
    "    - 1 trigger\n",
    "    - 7 vistas\n",
    "    - 8 funciones\n",
    "    - 1 dominio\n",
    "    - 13 secuencias\n",
    "\n",
    "## Modelo de Entidad-Relación\n",
    "\n",
    "<img src='PostgreSQL-Sample-Database.png' />\n",
    "\n",
    "\n",
    "## Tablas\n",
    "\n",
    "1. actor - datos de actor (primer nombre y apellido)\n",
    "2. film - datos propios de filmes: título, año de publicación, duración, rating, etc\n",
    "3. film_actor - relaciones entre files y actores\n",
    "4. category - categorías para filmes\n",
    "5. film_category - relaciones entre filmes y categorías\n",
    "6. store - datos de tiendas, empleados y dirección\n",
    "7. inventory - datos de inventario\n",
    "8. rental - datos de rentas efectuadas\n",
    "9. payment - datos sobre pagos de clientes\n",
    "10. staff - datos del personal en tienda\n",
    "11. customer - datos de los clientes\n",
    "12. address - direcciones de personal en tienda y clientes\n",
    "13. city - nombres de ciudades\n",
    "14. country - nombres de países\n",
    "15. language - lenguajes disponibles para filmes\n",
    "\n",
    "\n",
    "## Cargar DB en PostgreSQL usando pgAdmin\n",
    " \n",
    " - Crear usuario `cerouno` con password `datasci`\n",
    " - Cargar DB y asignarla al usuario default (`postgres`)\n",
    " - Explorar la DB con DBeaver"
   ]
  },
  {
   "cell_type": "code",
   "execution_count": null,
   "metadata": {},
   "outputs": [],
   "source": [
    "# Load dependencies\n",
    "import psycopg2, pandas\n",
    "\n",
    "# Set up connection parameters\n",
    "db_connection = psycopg2.connect(host=\"localhost\", port=\"32770\",\n",
    "                                 user=\"postgres\",password=\"\",\n",
    "                                 dbname=\"dvdrental\")\n",
    "\n",
    "# Connect to the database server\n",
    "db_cursor = db_connection.cursor()"
   ]
  },
  {
   "cell_type": "markdown",
   "metadata": {},
   "source": [
    "##  CRUD - Create, Read, Update & Delete\n",
    "### Read (`SELECT`)\n",
    "```sql\n",
    "SELECT column_1,\n",
    "       column_2,\n",
    "       ...\n",
    "FROM table_name\n",
    "WHERE conditions\n",
    "ORDER BY\n",
    " column_1 ASC,\n",
    " column_2 DESC;\n",
    "```"
   ]
  },
  {
   "cell_type": "code",
   "execution_count": null,
   "metadata": {},
   "outputs": [],
   "source": [
    "# Basic select\n",
    "sql_query = \"SELECT first_name, last_name, email FROM customer;\"\n",
    "\n",
    "dataframe_from_query = pandas.read_sql_query(sql_query, db_connection)\n",
    "dataframe_from_query\n"
   ]
  },
  {
   "cell_type": "code",
   "execution_count": null,
   "metadata": {},
   "outputs": [],
   "source": [
    "# Basic select 2\n",
    "sql_query = \"SELECT first_name, last_name  FROM customer WHERE first_name = 'Amanda' OR first_name = 'Amy' ORDER BY last_name ASC;\"\n",
    "\n",
    "\n",
    "dataframe_from_query = pandas.read_sql_query(sql_query, db_connection)\n",
    "dataframe_from_query\n"
   ]
  },
  {
   "cell_type": "markdown",
   "metadata": {},
   "source": [
    "### Ejercicios:\n",
    "**Tu turno!!**\n",
    "\n",
    "\n",
    "- Seleccionar de la guía la query adecuada a cada sentencia"
   ]
  },
  {
   "cell_type": "code",
   "execution_count": null,
   "metadata": {},
   "outputs": [],
   "source": [
    "# ORDER BY\n",
    "# http://www.postgresqltutorial.com/postgresql-order-by/\n",
    "\n",
    "sql_query = \"\"\n",
    "\n",
    "dataframe_from_query = pandas.read_sql_query(sql_query,db_connection)"
   ]
  },
  {
   "cell_type": "code",
   "execution_count": null,
   "metadata": {},
   "outputs": [],
   "source": [
    "# WHERE\n",
    "# http://www.postgresqltutorial.com/postgresql-where/\n",
    "sql_query = \"\"\n",
    "\n",
    "dataframe_from_query = pandas.read_sql_query(sql_query,db_connection)"
   ]
  },
  {
   "cell_type": "code",
   "execution_count": null,
   "metadata": {},
   "outputs": [],
   "source": [
    "# LIMIT \n",
    "# http://www.postgresqltutorial.com/postgresql-limit/\n",
    "sql_query = \"\"\n",
    "\n",
    "dataframe_from_query = pandas.read_sql_query(sql_query,db_connection)"
   ]
  },
  {
   "cell_type": "code",
   "execution_count": null,
   "metadata": {},
   "outputs": [],
   "source": [
    "# ORDER BY\n",
    "# http://www.postgresqltutorial.com/postgresql-order-by/\n",
    "sql_query = \"\"\n",
    "\n",
    "dataframe_from_query = pandas.read_sql_query(sql_query,db_connection)"
   ]
  },
  {
   "cell_type": "code",
   "execution_count": null,
   "metadata": {},
   "outputs": [],
   "source": [
    "# INNER JOIN\n",
    "# http://www.postgresqltutorial.com/postgresql-inner-join/\n",
    "sql_query = \"\"\n",
    "\n",
    "dataframe_from_query = pandas.read_sql_query(sql_query,db_connection)"
   ]
  },
  {
   "cell_type": "code",
   "execution_count": null,
   "metadata": {},
   "outputs": [],
   "source": [
    "# LEFT JOIN\n",
    "# http://www.postgresqltutorial.com/postgresql-left-join/\n",
    "sql_query = \"\"\n",
    "\n",
    "dataframe_from_query = pandas.read_sql_query(sql_query,db_connection)c"
   ]
  },
  {
   "cell_type": "code",
   "execution_count": null,
   "metadata": {},
   "outputs": [],
   "source": [
    "# Close connection\n",
    "db_connection.close()"
   ]
  },
  {
   "cell_type": "markdown",
   "metadata": {},
   "source": [
    "### Futura exploración:\n",
    "* http://www.postgresqltutorial.com/postgresql-insert/\n",
    "* http://www.postgresqltutorial.com/postgresql-update/\n",
    "* http://www.postgresqltutorial.com/postgresql-delete/"
   ]
  },
  {
   "cell_type": "code",
   "execution_count": null,
   "metadata": {},
   "outputs": [],
   "source": []
  }
 ],
 "metadata": {
  "kernelspec": {
   "display_name": "Python 3",
   "language": "python",
   "name": "python3"
  },
  "language_info": {
   "codemirror_mode": {
    "name": "ipython",
    "version": 3
   },
   "file_extension": ".py",
   "mimetype": "text/x-python",
   "name": "python",
   "nbconvert_exporter": "python",
   "pygments_lexer": "ipython3",
   "version": "3.6.5"
  }
 },
 "nbformat": 4,
 "nbformat_minor": 2
}
