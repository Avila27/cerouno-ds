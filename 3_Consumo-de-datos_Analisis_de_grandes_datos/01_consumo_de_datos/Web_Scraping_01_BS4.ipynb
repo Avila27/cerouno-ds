{
 "cells": [
  {
   "cell_type": "code",
   "execution_count": null,
   "metadata": {},
   "outputs": [],
   "source": [
    "from bs4 import BeautifulSoup\n",
    "import requests\n",
    "import re\n",
    "import pandas"
   ]
  },
  {
   "cell_type": "markdown",
   "metadata": {},
   "source": [
    "## Jerarquía de elementos HTML"
   ]
  },
  {
   "cell_type": "markdown",
   "metadata": {},
   "source": [
    "<img src=\"img/html.png\"/>"
   ]
  },
  {
   "cell_type": "markdown",
   "metadata": {},
   "source": [
    "## DOM (Document Object Mode)\n",
    "\n",
    "<img src=\"img/dom-tree.png\" />\n",
    "\n",
    "\n",
    "\n",
    "## Y XPath?\n",
    "https://www.w3.org/TR/1999/REC-xpath-19991116/"
   ]
  },
  {
   "cell_type": "markdown",
   "metadata": {},
   "source": [
    "### Obteniendo nuestro primer documento web"
   ]
  },
  {
   "cell_type": "code",
   "execution_count": null,
   "metadata": {},
   "outputs": [],
   "source": [
    "URL = 'http://nostarch.com'\n",
    "URL = BeautifulSoup(requests.get(URL).text, \"lxml\")"
   ]
  },
  {
   "cell_type": "markdown",
   "metadata": {},
   "source": [
    "#### BeautifulSoup nos otorga una estructura de datos para manipular el objeto:"
   ]
  },
  {
   "cell_type": "code",
   "execution_count": null,
   "metadata": {},
   "outputs": [],
   "source": [
    "dir(URL)"
   ]
  },
  {
   "cell_type": "code",
   "execution_count": null,
   "metadata": {},
   "outputs": [],
   "source": [
    "URL.title, URL.title.name, URL.title.string"
   ]
  },
  {
   "cell_type": "code",
   "execution_count": null,
   "metadata": {},
   "outputs": [],
   "source": [
    "URL.title.parent.name"
   ]
  },
  {
   "cell_type": "code",
   "execution_count": null,
   "metadata": {},
   "outputs": [],
   "source": [
    "# HTML: <p>\n",
    "URL.p"
   ]
  },
  {
   "cell_type": "code",
   "execution_count": null,
   "metadata": {},
   "outputs": [],
   "source": [
    "URL.body.b, URL.a"
   ]
  },
  {
   "cell_type": "markdown",
   "metadata": {},
   "source": [
    "## Ejercicio:\n",
    "\n",
    "Crear una función que reciba una URL y regrese el título (title)"
   ]
  },
  {
   "cell_type": "code",
   "execution_count": null,
   "metadata": {},
   "outputs": [],
   "source": [
    "# 1\n",
    "def mi_titulo1(url):\n",
    "    from bs4 import BeautifulSoup\n",
    "    import requests\n",
    "    titulo = BeautifulSoup(requests.get(url).text, \"lxml\")\n",
    "    titulo = titulo.title.string\n",
    "    return titulo\n",
    "\n",
    "# 2\n",
    "def mi_titulo2(url):\n",
    "    from bs4 import BeautifulSoup\n",
    "    import requests\n",
    "    titulo = BeautifulSoup(requests.get(url).text, \"lxml\").title.string\n",
    "    return titulo\n",
    "\n",
    "\n",
    "# 0\n",
    "def mi_titulo0(url):\n",
    "    from bs4 import BeautifulSoup\n",
    "    import requests\n",
    "    # Request - HTTP GET \n",
    "    titulo = requests.get(url)\n",
    "    # text from request\n",
    "    titulo = titulo.text\n",
    "    titulo = BeautifulSoup(titulo, \"lxml\")\n",
    "    titulo = titulo.title.string\n",
    "    return titulo"
   ]
  },
  {
   "cell_type": "code",
   "execution_count": null,
   "metadata": {},
   "outputs": [],
   "source": [
    "mi_titulo1('http://twitter.com')"
   ]
  },
  {
   "cell_type": "code",
   "execution_count": null,
   "metadata": {},
   "outputs": [],
   "source": [
    "mi_titulo2('http://twitter.com')"
   ]
  },
  {
   "cell_type": "code",
   "execution_count": null,
   "metadata": {},
   "outputs": [],
   "source": [
    "mi_titulo0('http://bbc.com')"
   ]
  },
  {
   "cell_type": "code",
   "execution_count": null,
   "metadata": {},
   "outputs": [],
   "source": [
    "# Buscar todas las etiquetas\n",
    "\n",
    "URL.find_all('a')"
   ]
  },
  {
   "cell_type": "code",
   "execution_count": null,
   "metadata": {
    "scrolled": true
   },
   "outputs": [],
   "source": [
    "# Buscar todas las etiquetas\n",
    "\n",
    "URL.find_all('a')"
   ]
  },
  {
   "cell_type": "code",
   "execution_count": null,
   "metadata": {},
   "outputs": [],
   "source": [
    "# Seleccion por clase\n",
    "\n",
    "# URL.find_all('div', class_='product-body')\n",
    "\n",
    "lista = URL.find_all('div', class_='view-content')"
   ]
  },
  {
   "cell_type": "code",
   "execution_count": null,
   "metadata": {},
   "outputs": [],
   "source": [
    "# URL.find_all('div')"
   ]
  },
  {
   "cell_type": "code",
   "execution_count": null,
   "metadata": {
    "scrolled": true
   },
   "outputs": [],
   "source": [
    "lista"
   ]
  },
  {
   "cell_type": "markdown",
   "metadata": {},
   "source": [
    "Comprobar los resultados:"
   ]
  },
  {
   "cell_type": "code",
   "execution_count": null,
   "metadata": {},
   "outputs": [],
   "source": [
    "lista[0].a.get_text(), lista[0].a[\"href\"]"
   ]
  },
  {
   "cell_type": "markdown",
   "metadata": {},
   "source": [
    "Una vez que sabemos como se compone la lista de resultados, podemos exportarla a un DataFrame:"
   ]
  },
  {
   "cell_type": "code",
   "execution_count": null,
   "metadata": {},
   "outputs": [],
   "source": [
    "# Creamos un nuevo diccionario\n",
    "resultado_dic = {}\n",
    "\n",
    "# Copiamos los resultados\n",
    "for element in lista:\n",
    "    resultado_dic[str(element.a.get_text())] = element.a[\"href\"]"
   ]
  },
  {
   "cell_type": "code",
   "execution_count": null,
   "metadata": {},
   "outputs": [],
   "source": [
    "# Creamos un nuevo DataFrame\n",
    "resutado_dataframe = pandas.DataFrame.from_dict(resultado_dic, orient='index')\n",
    "resutado_dataframe.head()"
   ]
  },
  {
   "cell_type": "code",
   "execution_count": null,
   "metadata": {},
   "outputs": [],
   "source": [
    "# Renombramos las columnas\n",
    "resutado_dataframe.rename(columns={0: 'URL'}, inplace=True)\n",
    "\n",
    "resutado_dataframe"
   ]
  },
  {
   "cell_type": "code",
   "execution_count": null,
   "metadata": {},
   "outputs": [],
   "source": [
    "# Exportar a CSV\n",
    "\n",
    "resutado_dataframe.to_csv('nostarch_lista.csv')"
   ]
  },
  {
   "cell_type": "markdown",
   "metadata": {},
   "source": [
    "## Selección por herencia DOM"
   ]
  },
  {
   "cell_type": "code",
   "execution_count": null,
   "metadata": {},
   "outputs": [],
   "source": [
    "URL = 'https://news.ycombinator.com/news'\n",
    "URL = BeautifulSoup(requests.get(URL).text, \"lxml\")"
   ]
  },
  {
   "cell_type": "markdown",
   "metadata": {},
   "source": [
    "### Herencia DOM: tr > td  > a\n",
    "\n",
    "### Recuerdan REGEX?"
   ]
  },
  {
   "cell_type": "code",
   "execution_count": null,
   "metadata": {},
   "outputs": [],
   "source": [
    "a_list = URL.select('tr > td  > a[href*=\".\"]')"
   ]
  },
  {
   "cell_type": "code",
   "execution_count": null,
   "metadata": {},
   "outputs": [],
   "source": [
    "a_list"
   ]
  },
  {
   "cell_type": "markdown",
   "metadata": {},
   "source": [
    "## Ejercicios\n",
    "\n",
    "- Image Site Downloader\n",
    "- Link Verification\n"
   ]
  },
  {
   "cell_type": "markdown",
   "metadata": {},
   "source": [
    "# Pattern\n",
    "\n",
    "Web mining module for Python, with tools for scraping, natural language processing, machine learning, network analysis and visualization. http://www.clips.ua.ac.be/pages/pattern "
   ]
  }
 ],
 "metadata": {
  "kernelspec": {
   "display_name": "Python 3",
   "language": "python",
   "name": "python3"
  },
  "language_info": {
   "codemirror_mode": {
    "name": "ipython",
    "version": 3
   },
   "file_extension": ".py",
   "mimetype": "text/x-python",
   "name": "python",
   "nbconvert_exporter": "python",
   "pygments_lexer": "ipython3",
   "version": "3.6.5"
  }
 },
 "nbformat": 4,
 "nbformat_minor": 1
}
